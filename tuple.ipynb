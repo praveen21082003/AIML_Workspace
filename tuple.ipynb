{
 "cells": [
  {
   "cell_type": "code",
   "execution_count": 2,
   "id": "06171cb7",
   "metadata": {},
   "outputs": [
    {
     "name": "stdout",
     "output_type": "stream",
     "text": [
      "3 (single tuple without coma) type <class 'int'>\n",
      "(3,) (single tuple with coma) type <class 'tuple'>\n",
      "(2, 4, 'Ram', '2.4') type <class 'tuple'>\n",
      "(2, ('Ram', 'sita'), 5, ['ravan', 'vibishan']) type <class 'tuple'>\n",
      "5\n",
      "['ravan', 'vibishan']\n"
     ]
    }
   ],
   "source": [
    "# Tuple\n",
    "#---------\n",
    "\n",
    "# Ordered, immutable, and allows duplicates.\n",
    "# Faster than lists due to immutability.\n",
    "# Useful for fixed collections like coordinates.\n",
    "\n",
    "my_tuple = (2,4,6,8,9,10)\n",
    "empty = () # empty tuple\n",
    "single_tu1 = (3) # single element tuple comma is important\n",
    "single_tu2 = (3,) # single element tuple comma is important\n",
    "\n",
    "print(single_tu1,\"(single tuple without coma) type\",type(single_tu1))\n",
    "print(single_tu2,\"(single tuple with coma) type\",type(single_tu2))\n",
    "\n",
    "mix_dt = (2,4,'Ram','2.4') # mix data type\n",
    "print(mix_dt,\"type\",type(mix_dt))\n",
    "\n",
    "nested = (2,('Ram','sita'),5,['ravan','vibishan']) # nested tuple even list type also can be nested\n",
    "print(nested,\"type\",type(nested))\n",
    "\n",
    "print(nested[2])\n",
    "print(nested[3])"
   ]
  },
  {
   "cell_type": "code",
   "execution_count": 7,
   "id": "1f754652",
   "metadata": {},
   "outputs": [
    {
     "name": "stdout",
     "output_type": "stream",
     "text": [
      "(2, ('Ram', 'sita'), 5)\n"
     ]
    }
   ],
   "source": [
    "#slicing\n",
    "print(nested[0:3])"
   ]
  },
  {
   "cell_type": "code",
   "execution_count": 8,
   "id": "12124236",
   "metadata": {},
   "outputs": [
    {
     "name": "stdout",
     "output_type": "stream",
     "text": [
      "(2, ('Ram', 'sita'), 5, ['ravan', 'vibishan'], 2, 4, 'Ram', '2.4')\n"
     ]
    }
   ],
   "source": [
    "#Concatenation\n",
    "print(nested+mix_dt)"
   ]
  },
  {
   "cell_type": "code",
   "execution_count": 9,
   "id": "a9585b94",
   "metadata": {},
   "outputs": [
    {
     "name": "stdout",
     "output_type": "stream",
     "text": [
      "(2, 4, 6, 8, 9, 10, 2, 4, 6, 8, 9, 10)\n"
     ]
    }
   ],
   "source": [
    "# Repitating\n",
    "print(my_tuple * 2)"
   ]
  },
  {
   "cell_type": "code",
   "execution_count": 10,
   "id": "9e7b0e3d",
   "metadata": {},
   "outputs": [
    {
     "name": "stdout",
     "output_type": "stream",
     "text": [
      "True\n"
     ]
    }
   ],
   "source": [
    "# membership\n",
    "print(4 in my_tuple)"
   ]
  },
  {
   "cell_type": "code",
   "execution_count": 11,
   "id": "0e1e11a8",
   "metadata": {},
   "outputs": [
    {
     "name": "stdout",
     "output_type": "stream",
     "text": [
      "5\n",
      "('Ram', 'sita')\n"
     ]
    }
   ],
   "source": [
    "# unpacking\n",
    "unpacking_tuple = (2,('Ram','sita'),5,['ravan','vibishan']) \n",
    "number, good, number, bad = unpacking_tuple\n",
    "print(number)\n",
    "print(good)"
   ]
  },
  {
   "cell_type": "code",
   "execution_count": 12,
   "id": "06d1804a",
   "metadata": {},
   "outputs": [
    {
     "ename": "TypeError",
     "evalue": "'tuple' object does not support item assignment",
     "output_type": "error",
     "traceback": [
      "\u001b[31m---------------------------------------------------------------------------\u001b[39m",
      "\u001b[31mTypeError\u001b[39m                                 Traceback (most recent call last)",
      "\u001b[36mCell\u001b[39m\u001b[36m \u001b[39m\u001b[32mIn[12]\u001b[39m\u001b[32m, line 1\u001b[39m\n\u001b[32m----> \u001b[39m\u001b[32m1\u001b[39m \u001b[43mnested\u001b[49m\u001b[43m[\u001b[49m\u001b[32;43m0\u001b[39;49m\u001b[43m]\u001b[49m= \u001b[32m10\u001b[39m \u001b[38;5;66;03m# immutable so this will throw error\u001b[39;00m\n",
      "\u001b[31mTypeError\u001b[39m: 'tuple' object does not support item assignment"
     ]
    }
   ],
   "source": [
    "nested[0]= 10 # immutable so this will throw error"
   ]
  }
 ],
 "metadata": {
  "kernelspec": {
   "display_name": "my_ai_env",
   "language": "python",
   "name": "python3"
  },
  "language_info": {
   "codemirror_mode": {
    "name": "ipython",
    "version": 3
   },
   "file_extension": ".py",
   "mimetype": "text/x-python",
   "name": "python",
   "nbconvert_exporter": "python",
   "pygments_lexer": "ipython3",
   "version": "3.13.1"
  }
 },
 "nbformat": 4,
 "nbformat_minor": 5
}
