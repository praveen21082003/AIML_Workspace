{
 "cells": [
  {
   "cell_type": "code",
   "execution_count": 4,
   "id": "4b3193f5",
   "metadata": {},
   "outputs": [
    {
     "name": "stdout",
     "output_type": "stream",
     "text": [
      "r\n",
      "p\n",
      "n\n"
     ]
    }
   ],
   "source": [
    "# Indexing :\n",
    "#Accessing individual elements from a string,list or tuple using positions\n",
    "\n",
    "text = \"praveen\"\n",
    "print(text[1])\n",
    "print(text[0])\n",
    "print(text[-1])"
   ]
  },
  {
   "cell_type": "code",
   "execution_count": null,
   "id": "379d8055",
   "metadata": {},
   "outputs": [
    {
     "name": "stdout",
     "output_type": "stream",
     "text": [
      "praveen\n",
      "r\n",
      "ramuk neevarp\n",
      "\n",
      "kuma\n",
      "r\n"
     ]
    }
   ],
   "source": [
    "# scilcing \n",
    "#Accessing a part of sequence (substring or sublist)\n",
    "\n",
    "word = \"praveen kumar\"\n",
    "\n",
    "word[1:3]\n",
    "print(word[0:7])\n",
    "print(word[-1])\n",
    "print(word[::-1])\n",
    "print(word[1:15:-1])\n",
    "print(word[-5:-1])\n",
    "print(word[-1:15])\n",
    "\n"
   ]
  },
  {
   "cell_type": "code",
   "execution_count": null,
   "id": "a78ea785",
   "metadata": {},
   "outputs": [],
   "source": []
  }
 ],
 "metadata": {
  "kernelspec": {
   "display_name": "my_ai_env",
   "language": "python",
   "name": "python3"
  },
  "language_info": {
   "codemirror_mode": {
    "name": "ipython",
    "version": 3
   },
   "file_extension": ".py",
   "mimetype": "text/x-python",
   "name": "python",
   "nbconvert_exporter": "python",
   "pygments_lexer": "ipython3",
   "version": "3.13.1"
  }
 },
 "nbformat": 4,
 "nbformat_minor": 5
}
