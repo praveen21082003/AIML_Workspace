{
 "cells": [
  {
   "cell_type": "code",
   "execution_count": null,
   "id": "8aa6664a",
   "metadata": {},
   "outputs": [
    {
     "name": "stdout",
     "output_type": "stream",
     "text": [
      "{1, 2, 3, 4}\n"
     ]
    }
   ],
   "source": [
    "# sets\n",
    "#--------\n",
    "#set is a collection of unordered,unindexed,and unique elements in python.\n",
    "# unorder- no specific order\n",
    "# unique- no duplicates are allowed\n",
    "# mutable- can add or remove element\n",
    "# unindexed- values in sets are unindexed \n",
    "\n",
    "sets = {1,2,3,4,4} # even id there are duplicated it considered as single data.\n",
    "print(sets)"
   ]
  },
  {
   "cell_type": "code",
   "execution_count": 2,
   "id": "458d847f",
   "metadata": {},
   "outputs": [
    {
     "name": "stdout",
     "output_type": "stream",
     "text": [
      "{1, 2, 3, 4, 5}\n"
     ]
    }
   ],
   "source": [
    "#add \n",
    "\n",
    "sets.add(5)\n",
    "print(sets)"
   ]
  },
  {
   "cell_type": "code",
   "execution_count": null,
   "id": "051fc637",
   "metadata": {},
   "outputs": [
    {
     "ename": "KeyError",
     "evalue": "4",
     "output_type": "error",
     "traceback": [
      "\u001b[31m---------------------------------------------------------------------------\u001b[39m",
      "\u001b[31mKeyError\u001b[39m                                  Traceback (most recent call last)",
      "\u001b[36mCell\u001b[39m\u001b[36m \u001b[39m\u001b[32mIn[4]\u001b[39m\u001b[32m, line 3\u001b[39m\n\u001b[32m      1\u001b[39m \u001b[38;5;66;03m#remove\u001b[39;00m\n\u001b[32m----> \u001b[39m\u001b[32m3\u001b[39m \u001b[43msets\u001b[49m\u001b[43m.\u001b[49m\u001b[43mremove\u001b[49m\u001b[43m(\u001b[49m\u001b[32;43m4\u001b[39;49m\u001b[43m)\u001b[49m \n\u001b[32m      4\u001b[39m \u001b[38;5;28mprint\u001b[39m(sets)\n\u001b[32m      5\u001b[39m sets.remove(\u001b[32m6\u001b[39m)\n",
      "\u001b[31mKeyError\u001b[39m: 4"
     ]
    }
   ],
   "source": [
    "#remove\n",
    "\n",
    "sets.remove(4) \n",
    "print(sets)\n",
    "sets.remove(6)# rises error if removing element is not present in the sets\n",
    "print(sets)"
   ]
  },
  {
   "cell_type": "code",
   "execution_count": 6,
   "id": "466559a6",
   "metadata": {},
   "outputs": [
    {
     "name": "stdout",
     "output_type": "stream",
     "text": [
      "{1, 2, 3, 5}\n"
     ]
    }
   ],
   "source": [
    "#discard\n",
    "sets.discard(4)\n",
    "print(sets)"
   ]
  },
  {
   "cell_type": "code",
   "execution_count": 7,
   "id": "89f8657a",
   "metadata": {},
   "outputs": [
    {
     "name": "stdout",
     "output_type": "stream",
     "text": [
      "{2, 3, 5}\n"
     ]
    }
   ],
   "source": [
    "#pop\n",
    "\n",
    "sets.pop()# pops the random value from the sets\n",
    "print(sets)"
   ]
  },
  {
   "cell_type": "code",
   "execution_count": null,
   "id": "0c7082ec",
   "metadata": {},
   "outputs": [
    {
     "name": "stdout",
     "output_type": "stream",
     "text": [
      "set()\n"
     ]
    }
   ],
   "source": [
    "# clear()\n",
    "sets.clear()\n",
    "print(sets)"
   ]
  },
  {
   "cell_type": "code",
   "execution_count": 13,
   "id": "86740a04",
   "metadata": {},
   "outputs": [
    {
     "name": "stdout",
     "output_type": "stream",
     "text": [
      "{4, 5, 6, 7, 8, 9, 10, 11, 13}\n"
     ]
    }
   ],
   "source": [
    "#update(iter)\n",
    "\n",
    "sets={4,5,6,7,7,8,9,10}\n",
    "sets2={11,13}\n",
    "sets.update(sets2)\n",
    "print(sets)\n"
   ]
  },
  {
   "cell_type": "code",
   "execution_count": null,
   "id": "adbdfe62",
   "metadata": {},
   "outputs": [
    {
     "ename": "AttributeError",
     "evalue": "'dict' object has no attribute 'add'",
     "output_type": "error",
     "traceback": [
      "\u001b[31m---------------------------------------------------------------------------\u001b[39m",
      "\u001b[31mAttributeError\u001b[39m                            Traceback (most recent call last)",
      "\u001b[36mCell\u001b[39m\u001b[36m \u001b[39m\u001b[32mIn[2]\u001b[39m\u001b[32m, line 1\u001b[39m\n\u001b[32m----> \u001b[39m\u001b[32m1\u001b[39m \u001b[43m{\u001b[49m\u001b[43m \u001b[49m\u001b[43m}\u001b[49m\u001b[43m.\u001b[49m\u001b[43madd\u001b[49m(\u001b[32m10\u001b[39m)\n",
      "\u001b[31mAttributeError\u001b[39m: 'dict' object has no attribute 'add'"
     ]
    }
   ],
   "source": [
    " }.add(10)"
   ]
  }
 ],
 "metadata": {
  "kernelspec": {
   "display_name": "my_ai_env",
   "language": "python",
   "name": "python3"
  },
  "language_info": {
   "codemirror_mode": {
    "name": "ipython",
    "version": 3
   },
   "file_extension": ".py",
   "mimetype": "text/x-python",
   "name": "python",
   "nbconvert_exporter": "python",
   "pygments_lexer": "ipython3",
   "version": "3.13.1"
  }
 },
 "nbformat": 4,
 "nbformat_minor": 5
}
