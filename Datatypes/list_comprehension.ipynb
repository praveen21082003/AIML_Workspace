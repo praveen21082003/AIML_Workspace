{
 "cells": [
  {
   "cell_type": "code",
   "execution_count": 5,
   "id": "c64d970a",
   "metadata": {},
   "outputs": [
    {
     "data": {
      "text/plain": [
       "[1, 2, 3, 4, 5, 6, 7, 8, 9]"
      ]
     },
     "execution_count": 5,
     "metadata": {},
     "output_type": "execute_result"
    }
   ],
   "source": [
    "# List comprehension\n",
    "\n",
    "# list conprehension is used to enage short and elegant way to create a new list.\n",
    "\n",
    "[i for i in range(1,10)]\n",
    "\n"
   ]
  },
  {
   "cell_type": "code",
   "execution_count": 10,
   "id": "d316f677",
   "metadata": {},
   "outputs": [
    {
     "name": "stdout",
     "output_type": "stream",
     "text": [
      "[2, 4, 6, 8, 10]\n"
     ]
    }
   ],
   "source": [
    "filter_even = [i for i in range(1,11) if i%2==0]\n",
    "print(filter_even)"
   ]
  },
  {
   "cell_type": "code",
   "execution_count": 5,
   "id": "c2f31c8c",
   "metadata": {},
   "outputs": [
    {
     "name": "stdout",
     "output_type": "stream",
     "text": [
      "['apple', 'ball']\n"
     ]
    }
   ],
   "source": [
    "list = ['apple',1,2,'ball']\n",
    "'''newlist = [i for i in range(list) if type(list[i]) == str]\n",
    "print(newlist)'''\n",
    "# ERROR\n",
    "\n",
    "newlist = [i for i in list if type(i) == str]\n",
    "print(newlist)\n",
    "\n"
   ]
  },
  {
   "cell_type": "code",
   "execution_count": 18,
   "id": "8e759e12",
   "metadata": {},
   "outputs": [],
   "source": [
    "dit = { \"num\": \"one\"}"
   ]
  },
  {
   "cell_type": "code",
   "execution_count": 22,
   "id": "3c08fb39",
   "metadata": {},
   "outputs": [
    {
     "data": {
      "text/plain": [
       "'one'"
      ]
     },
     "execution_count": 22,
     "metadata": {},
     "output_type": "execute_result"
    }
   ],
   "source": [
    "dit[\"num\"]"
   ]
  },
  {
   "cell_type": "code",
   "execution_count": 6,
   "id": "bbc4d013",
   "metadata": {},
   "outputs": [
    {
     "name": "stdout",
     "output_type": "stream",
     "text": [
      "['APPLE', 'BALL']\n"
     ]
    }
   ],
   "source": [
    "list = ['apple',1,2,'ball']\n",
    "newlist = [i.upper() for i in list if type(i)==str ]\n",
    "print(newlist)"
   ]
  },
  {
   "cell_type": "code",
   "execution_count": 24,
   "id": "06e3675a",
   "metadata": {},
   "outputs": [],
   "source": [
    "# Write a python program to print the voting eligibility. \n",
    "\n",
    "# get a age from user\n",
    "# return true if he is eligible else false"
   ]
  },
  {
   "cell_type": "code",
   "execution_count": 31,
   "id": "19d59efc",
   "metadata": {},
   "outputs": [
    {
     "name": "stdout",
     "output_type": "stream",
     "text": [
      "Not elegible for vote\n"
     ]
    }
   ],
   "source": [
    "def voting_eligibility(age):\n",
    "    if age >= 18 :\n",
    "        return \"Elegible for vote\"\n",
    "    return \"Not elegible for vote\"\n",
    "    \n",
    "age = int(input(\"enter a age : \"))\n",
    "result = voting_eligibility(age)\n",
    "print(result)\n"
   ]
  },
  {
   "cell_type": "code",
   "execution_count": 43,
   "id": "729a0c6c",
   "metadata": {},
   "outputs": [
    {
     "name": "stdout",
     "output_type": "stream",
     "text": [
      "28\n"
     ]
    }
   ],
   "source": [
    "nums = (1,2,3,4,8,10)\n",
    "sum=0\n",
    "for items in range(len(nums)):\n",
    "    sum = nums[items] + sum\n",
    "print(sum)\n"
   ]
  },
  {
   "cell_type": "code",
   "execution_count": 44,
   "id": "9801e715",
   "metadata": {},
   "outputs": [
    {
     "name": "stdout",
     "output_type": "stream",
     "text": [
      "28\n"
     ]
    }
   ],
   "source": [
    "sum=0\n",
    "for num in nums:\n",
    "    sum = num +sum\n",
    "print(sum)"
   ]
  },
  {
   "cell_type": "code",
   "execution_count": 19,
   "id": "446d2e2e",
   "metadata": {},
   "outputs": [
    {
     "ename": "TypeError",
     "evalue": "'int' object is not callable",
     "output_type": "error",
     "traceback": [
      "\u001b[31m---------------------------------------------------------------------------\u001b[39m",
      "\u001b[31mTypeError\u001b[39m                                 Traceback (most recent call last)",
      "\u001b[36mCell\u001b[39m\u001b[36m \u001b[39m\u001b[32mIn[19]\u001b[39m\u001b[32m, line 2\u001b[39m\n\u001b[32m      1\u001b[39m nums = [\u001b[32m1\u001b[39m, \u001b[32m2\u001b[39m, \u001b[32m3\u001b[39m, \u001b[32m4\u001b[39m, \u001b[32m8\u001b[39m, \u001b[32m10\u001b[39m]\n\u001b[32m----> \u001b[39m\u001b[32m2\u001b[39m total = \u001b[38;5;28;43msum\u001b[39;49m\u001b[43m(\u001b[49m\u001b[43m[\u001b[49m\u001b[43mi\u001b[49m\u001b[43m \u001b[49m\u001b[38;5;28;43;01mfor\u001b[39;49;00m\u001b[43m \u001b[49m\u001b[43mi\u001b[49m\u001b[43m \u001b[49m\u001b[38;5;129;43;01min\u001b[39;49;00m\u001b[43m \u001b[49m\u001b[43mnums\u001b[49m\u001b[43m]\u001b[49m\u001b[43m)\u001b[49m  \u001b[38;5;66;03m# ✅ Works fine\u001b[39;00m\n\u001b[32m      3\u001b[39m \u001b[38;5;28mprint\u001b[39m(total)\n",
      "\u001b[31mTypeError\u001b[39m: 'int' object is not callable"
     ]
    }
   ],
   "source": [
    "nums = [1, 2, 3, 4, 8, 10]\n",
    "total = sum([i for i in nums])  # ✅ Works fine\n",
    "print(total)\n"
   ]
  }
 ],
 "metadata": {
  "kernelspec": {
   "display_name": "my_ai_env",
   "language": "python",
   "name": "python3"
  },
  "language_info": {
   "codemirror_mode": {
    "name": "ipython",
    "version": 3
   },
   "file_extension": ".py",
   "mimetype": "text/x-python",
   "name": "python",
   "nbconvert_exporter": "python",
   "pygments_lexer": "ipython3",
   "version": "3.13.1"
  }
 },
 "nbformat": 4,
 "nbformat_minor": 5
}
