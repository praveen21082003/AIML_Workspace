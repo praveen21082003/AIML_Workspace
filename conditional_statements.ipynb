{
 "cells": [
  {
   "cell_type": "code",
   "execution_count": 1,
   "id": "0945deb8",
   "metadata": {},
   "outputs": [],
   "source": [
    "# conditional statements \n",
    "# Conditional statemnets are used to make decisions in python based on the true or false conditions\n",
    "\n",
    "# 1. if\n",
    "# 2. if-else\n",
    "# 3. if-elif-else\n",
    "# 4. nested if\n",
    "# 5. ternary (conditional)operater"
   ]
  },
  {
   "cell_type": "code",
   "execution_count": 3,
   "id": "9f46763b",
   "metadata": {},
   "outputs": [
    {
     "name": "stdout",
     "output_type": "stream",
     "text": [
      "x is greater than 18\n"
     ]
    }
   ],
   "source": [
    "#1. if\n",
    "\n",
    "#if condition:\n",
    "#    block of code\n",
    "\n",
    "x = 19\n",
    "if x > 18 : \n",
    "    print(\"x is greater than 18\")"
   ]
  },
  {
   "cell_type": "code",
   "execution_count": 6,
   "id": "2cc140ec",
   "metadata": {},
   "outputs": [
    {
     "name": "stdout",
     "output_type": "stream",
     "text": [
      "you are not eligible for voting\n"
     ]
    }
   ],
   "source": [
    "#2. if-else\n",
    "\n",
    "# if condition:\n",
    "#    block of code\n",
    "# else:\n",
    "#    block of code\n",
    "\n",
    "age = 17\n",
    "if age >= 18 :\n",
    "    print(\"you are eligible for voting\")\n",
    "else:\n",
    "    print(\"you are not eligible for voting\")\n"
   ]
  },
  {
   "cell_type": "code",
   "execution_count": 7,
   "id": "a6b8291b",
   "metadata": {},
   "outputs": [
    {
     "name": "stdout",
     "output_type": "stream",
     "text": [
      "you are an adult\n"
     ]
    }
   ],
   "source": [
    "#3. if-elif-else\n",
    "\n",
    "# if condition:\n",
    "#    block of code\n",
    "# elif condition:\n",
    "#    block of code\n",
    "# else:\n",
    "#    block of code\n",
    "\n",
    "age = 25\n",
    "if age >= 18:\n",
    "    print(\"you are an adult\")\n",
    "elif age >= 65:\n",
    "    print(\"you are a senior\")\n",
    "else:\n",
    "    print(\"you are a minor\")"
   ]
  },
  {
   "cell_type": "code",
   "execution_count": 18,
   "id": "528cf66b",
   "metadata": {},
   "outputs": [
    {
     "name": "stdout",
     "output_type": "stream",
     "text": [
      "Not eligible for DL\n"
     ]
    }
   ],
   "source": [
    "# 4. nested if \n",
    "# if condition:\n",
    "#       if condition:\n",
    "# else:\n",
    "\n",
    "age = 71\n",
    "\n",
    "if age >= 18:\n",
    "    if age<=70:\n",
    "        print(\"your are elegible for Driving lisence\")\n",
    "    else:\n",
    "        print(\"Not eligible for DL\")\n",
    "else:\n",
    "    print(\"Not eligible for DL\")\n",
    "\n"
   ]
  },
  {
   "cell_type": "code",
   "execution_count": 27,
   "id": "2ebfd999",
   "metadata": {},
   "outputs": [
    {
     "name": "stdout",
     "output_type": "stream",
     "text": [
      "(89, 'got equal')\n"
     ]
    }
   ],
   "source": [
    "# Ternary conditional operator\n",
    "\n",
    "kiran = 89\n",
    "ramu = 89\n",
    "\n",
    "Highest_score = (kiran,\"kiran got highest score\") if kiran > ramu else (ramu,\"Ramu got highest score\") if ramu > kiran else (kiran,\"got equal\")\n",
    "print(Highest_score)"
   ]
  },
  {
   "cell_type": "code",
   "execution_count": null,
   "id": "0c68a44c",
   "metadata": {},
   "outputs": [],
   "source": [
    "# logical operators can use in conditions  and,or,not\n",
    "# comparision operators can use in conditions ==, <=, >= ,!= , <, >, \n"
   ]
  },
  {
   "cell_type": "code",
   "execution_count": 6,
   "id": "56ee4546",
   "metadata": {},
   "outputs": [
    {
     "name": "stdout",
     "output_type": "stream",
     "text": [
      "Adult | Gender is Male\n"
     ]
    }
   ],
   "source": [
    "age = int(input(\"Enter your age : \"))\n",
    "if age < 18:\n",
    "    print(\"Invalid Gender\")\n",
    "elif age >= 70 :\n",
    "    gender = input(\" Enter your Gender :\")\n",
    "    if gender == \"male\":\n",
    "        print(\"Senior | Gender is Male\")\n",
    "    elif gender == \"female\":\n",
    "        print(\"Senior | Gender is Female\")\n",
    "    else:\n",
    "        print(\"Invalid Gender\")\n",
    "else:\n",
    "    gender = input(\" Enter your Gender :\")\n",
    "    if gender == \"male\":\n",
    "        print(\"Adult | Gender is Male\")\n",
    "    elif gender == \"female\":\n",
    "        print(\"Adult | Gender is Female\")\n",
    "        "
   ]
  },
  {
   "cell_type": "code",
   "execution_count": null,
   "id": "82ff1122",
   "metadata": {},
   "outputs": [
    {
     "name": "stdout",
     "output_type": "stream",
     "text": [
      "Invalid input | your not met the condition to any scheme\n"
     ]
    }
   ],
   "source": [
    "age = int(input(\"Enter Your age: \"))\n",
    "income = int(input(\"Enter your yearly Income: \"))\n",
    "citizen = input(\"Enter your Citizenship:\")\n",
    "\n",
    "\n",
    "if age >= 60 and citizen.lower() == \"indian\":\n",
    "    if income <= 500000 :\n",
    "        print(\"Eligible for Senior Citizen Scheme\")\n",
    "    else:\n",
    "        print(\"Not eligible | For Senior Citizen Scheme Income must be below 500000\")\n",
    "elif 18 <= age <= 59 and citizen.lower() == \"indian\":\n",
    "    if income <= 300000:\n",
    "        print(\"Eligible for General Subsidy\")\n",
    "    else:\n",
    "        print(\"Not eligible | For General Subsidy Scheme Income must be below 300000\")\n",
    "elif age < 18 :\n",
    "    print(\"Not eligible for any scheme your minor\")\n",
    "else:\n",
    "    print(\"Invalid input or not Indian | your not met the condition to any scheme\")\n",
    "\n",
    "\n"
   ]
  }
 ],
 "metadata": {
  "kernelspec": {
   "display_name": "my_ai_env",
   "language": "python",
   "name": "python3"
  },
  "language_info": {
   "codemirror_mode": {
    "name": "ipython",
    "version": 3
   },
   "file_extension": ".py",
   "mimetype": "text/x-python",
   "name": "python",
   "nbconvert_exporter": "python",
   "pygments_lexer": "ipython3",
   "version": "3.13.1"
  }
 },
 "nbformat": 4,
 "nbformat_minor": 5
}
