{
 "cells": [
  {
   "cell_type": "code",
   "execution_count": 2,
   "id": "68774c95",
   "metadata": {},
   "outputs": [
    {
     "name": "stdout",
     "output_type": "stream",
     "text": [
      "apple\n",
      "Avocado\n",
      "Apricot\n"
     ]
    }
   ],
   "source": [
    "# 1. Print only words that start with 'A' (case-insensitive) from a list.\n",
    "# words = [\"apple\", \"Banana\", \"Avocado\", \"grape\", \"Apricot\"]\n",
    "# Output:\n",
    "# apple\n",
    "# Avocado\n",
    "# Apricot\n",
    "\n",
    "\n",
    "words = [\"apple\", \"Banana\", \"Avocado\", \"grape\", \"Apricot\"]\n",
    "\n",
    "for word in words:\n",
    "    if word.lower().startswith(\"a\"):\n",
    "        print(word)\n",
    "\n",
    "    "
   ]
  },
  {
   "cell_type": "code",
   "execution_count": 4,
   "id": "eea5cce3",
   "metadata": {},
   "outputs": [
    {
     "name": "stdout",
     "output_type": "stream",
     "text": [
      "Words ending with 'e' :3\n"
     ]
    }
   ],
   "source": [
    "# 2. Count how many words in a list end with the letter 'e'.\n",
    "# words = [\"apple\", \"banana\", \"grape\", \"mango\", \"pineapple\"]\n",
    "# Output:\n",
    "# Words ending with 'e': 2\n",
    "\n",
    "words = [\"apple\", \"banana\", \"grape\", \"mango\", \"pineapple\"]\n",
    "count = 0\n",
    "for word in words:\n",
    "    if word.lower().endswith(\"e\"):\n",
    "        count += 1\n",
    "print(f\"Words ending with 'e' :{count}\")\n",
    "\n"
   ]
  },
  {
   "cell_type": "code",
   "execution_count": 6,
   "id": "a61831b6",
   "metadata": {},
   "outputs": [
    {
     "name": "stdout",
     "output_type": "stream",
     "text": [
      "P\n",
      "I\n",
      "F\n",
      "N\n"
     ]
    }
   ],
   "source": [
    "# 3. Loop through a string and print all uppercase letters.\n",
    "# text = \"Python Is FuN\"\n",
    "# Output:\n",
    "# P\n",
    "# I\n",
    "# F\n",
    "# N\n",
    "\n",
    "text = \"Python Is FuN\"\n",
    "\n",
    "for letter in text:\n",
    "    if letter.isupper():\n",
    "        print(letter)\n"
   ]
  },
  {
   "cell_type": "code",
   "execution_count": 5,
   "id": "2349a6b2",
   "metadata": {},
   "outputs": [
    {
     "data": {
      "text/plain": [
       "True"
      ]
     },
     "execution_count": 5,
     "metadata": {},
     "output_type": "execute_result"
    }
   ],
   "source": [
    "\"P\".isupper()"
   ]
  },
  {
   "cell_type": "code",
   "execution_count": 7,
   "id": "6371fcdc",
   "metadata": {},
   "outputs": [
    {
     "name": "stdout",
     "output_type": "stream",
     "text": [
      "Alice\n",
      "Bob\n",
      "John\n"
     ]
    }
   ],
   "source": [
    "# 4. Loop through a list of names and print only those that are fully alphabetic.\n",
    "# names = [\"Alice\", \"Bob\", \"An4a\", \"Steve123\", \"John\"]\n",
    "# Output:\n",
    "# Alice\n",
    "# Bob\n",
    "# John\n",
    "\n",
    "names = [\"Alice\", \"Bob\", \"An4a\", \"Steve123\", \"John\"]\n",
    "\n",
    "for name in names:\n",
    "    if name.isalpha():\n",
    "        print(name)\n"
   ]
  },
  {
   "cell_type": "code",
   "execution_count": 8,
   "id": "dc23497a",
   "metadata": {},
   "outputs": [
    {
     "name": "stdout",
     "output_type": "stream",
     "text": [
      "London\n",
      "Amsterdam\n"
     ]
    }
   ],
   "source": [
    "# 5. Given a list of strings, print those that have more than 5 characters.\n",
    "# cities = [\"Paris\", \"London\", \"Amsterdam\", \"NYC\", \"Delhi\"]\n",
    "# Output:\n",
    "# London\n",
    "# Amsterdam\n",
    "\n",
    "cities = [\"Paris\", \"London\", \"Amsterdam\", \"NYC\", \"Delhi\"]\n",
    "\n",
    "for city in cities:\n",
    "    if len(city) > 5:\n",
    "        print(city)"
   ]
  },
  {
   "cell_type": "code",
   "execution_count": 10,
   "id": "9682c669",
   "metadata": {},
   "outputs": [
    {
     "name": "stdout",
     "output_type": "stream",
     "text": [
      "['APPLE', 'BANANA', 'CHERRY']\n"
     ]
    }
   ],
   "source": [
    "# 6. Create a new list with all words converted to uppercase.\n",
    "# fruits = [\"apple\", \"banana\", \"cherry\"]\n",
    "# Output:\n",
    "# ['APPLE', 'BANANA', 'CHERRY']\n",
    "\n",
    "fruits = [\"apple\", \"banana\", \"cherry\"]\n",
    "FRUITS = []\n",
    "\n",
    "for fruit in fruits:\n",
    "    FRUITS.append(fruit.upper())\n",
    "\n",
    "print(FRUITS)\n"
   ]
  },
  {
   "cell_type": "code",
   "execution_count": 12,
   "id": "6058d934",
   "metadata": {},
   "outputs": [
    {
     "name": "stdout",
     "output_type": "stream",
     "text": [
      "I love Python\n",
      "python is powerful\n"
     ]
    }
   ],
   "source": [
    "# 7. From a list of sentences, print only those containing the word 'python'.\n",
    "# lines = [\"I love Python\", \"Java is cool\", \"python is powerful\", \"I like programming\"]\n",
    "# Output:\n",
    "# I love Python\n",
    "# python is powerful\n",
    "\n",
    "lines = [\"I love Python\", \"Java is cool\", \"python is powerful\", \"I like programming\"]\n",
    "\n",
    "for sen in lines:\n",
    "    if \"python\" in sen.lower():\n",
    "        print(sen)\n"
   ]
  },
  {
   "cell_type": "code",
   "execution_count": 11,
   "id": "edb2f219",
   "metadata": {},
   "outputs": [
    {
     "data": {
      "text/plain": [
       "True"
      ]
     },
     "execution_count": 11,
     "metadata": {},
     "output_type": "execute_result"
    }
   ],
   "source": [
    "sen = \"i like Python\"\n",
    "\"python\" in sen.lower()"
   ]
  },
  {
   "cell_type": "code",
   "execution_count": 14,
   "id": "2d00529f",
   "metadata": {},
   "outputs": [
    {
     "name": "stdout",
     "output_type": "stream",
     "text": [
      "edoc\n",
      "pool\n",
      "nuf\n"
     ]
    }
   ],
   "source": [
    "# 8. Print the reversed version of each word in a list.\n",
    "# words = [\"code\", \"loop\", \"fun\"]\n",
    "# Output:\n",
    "# edoc\n",
    "# pool\n",
    "# nuf\n",
    "\n",
    "words = [\"code\", \"loop\", \"fun\"]\n",
    "for word in words:\n",
    "    print(word[::-1])"
   ]
  },
  {
   "cell_type": "code",
   "execution_count": 84,
   "id": "3a7bba50",
   "metadata": {},
   "outputs": [
    {
     "name": "stdout",
     "output_type": "stream",
     "text": [
      "True\n",
      "Anna\n",
      "Bob\n",
      "Ava\n"
     ]
    }
   ],
   "source": [
    "# 9. Filter and print names that start and end with the same letter.\n",
    "# names = [\"Anna\", \"Bob\", \"Alice\", \"Ava\", \"Sam\"]\n",
    "# Output:\n",
    "# Anna\n",
    "# Bob\n",
    "# Ava\n",
    "\n",
    "names = [\"Anna\", \"Bob\", \"Alice\", \"Ava\", \"Sam\"]\n",
    "\n",
    "\n",
    "print(names[0][0].lower() == names[0][-1])\n",
    "\n",
    "for name in names:\n",
    "    \n",
    "    if name[0].lower() == name[-1]:\n",
    "        print(name)\n",
    "\n",
    "# for name in range(len(names)):\n",
    "#     if name.lower().name[0].endswith(name[-1]):\n",
    "#         print(name)"
   ]
  },
  {
   "cell_type": "code",
   "execution_count": 23,
   "id": "061cf864",
   "metadata": {},
   "outputs": [
    {
     "name": "stdout",
     "output_type": "stream",
     "text": [
      "apple - 2 vowels\n",
      "grape - 2 vowels\n",
      "plum - 1 vowels\n"
     ]
    }
   ],
   "source": [
    "# 10. Loop through a list of strings and print the number of vowels in each.\n",
    "# words = [\"apple\", \"grape\", \"plum\"]\n",
    "# Output:\n",
    "# apple - 2 vowels\n",
    "# grape - 2 vowels\n",
    "# plum - 1 vowel\n",
    "\n",
    "words = [\"apple\", \"grape\", \"plum\"]\n",
    "count = 0\n",
    "\n",
    "for word in words:\n",
    "    for letter in word:\n",
    "        if letter.lower() in ['a','e','i','o','u']:\n",
    "            count += 1\n",
    "    print(f\"{word} - {count} vowels\")\n",
    "    count = 0\n"
   ]
  },
  {
   "cell_type": "code",
   "execution_count": 18,
   "id": "b2eface8",
   "metadata": {},
   "outputs": [
    {
     "name": "stdout",
     "output_type": "stream",
     "text": [
      "2\n"
     ]
    }
   ],
   "source": [
    "word = \"apple\"\n",
    "count = 0\n",
    "for letter in word:\n",
    "    if letter.lower() in ['a','e','i','o','u']:\n",
    "        count += 1\n",
    "\n",
    "print(count)"
   ]
  },
  {
   "cell_type": "code",
   "execution_count": 42,
   "id": "85182fd4",
   "metadata": {},
   "outputs": [
    {
     "name": "stdout",
     "output_type": "stream",
     "text": [
      "['apple', 'banana', 'grape']\n"
     ]
    }
   ],
   "source": [
    "# 11. From a list of mixed data, keep only the strings.\n",
    "# items = [\"apple\", 42, \"banana\", True, \"grape\"]\n",
    "# Output:\n",
    "# ['apple', 'banana', 'grape']\n",
    "\n",
    "items = [\"apple\", 42, \"banana\", True, \"grape\"]\n",
    "\n",
    "# for item in items:\n",
    "#     if str(item).isdigit() or str(item) == \"True\":\n",
    "#         items.remove(item)\n",
    "# print(items)\n",
    "\n",
    "for item in items:\n",
    "    if type(item) != str:\n",
    "        items.remove(item)\n",
    "print(items)\n"
   ]
  },
  {
   "cell_type": "code",
   "execution_count": 56,
   "id": "73530b03",
   "metadata": {},
   "outputs": [
    {
     "name": "stdout",
     "output_type": "stream",
     "text": [
      "['apple', 'banana', 'grape']\n"
     ]
    }
   ],
   "source": [
    "# 12. Remove all duplicates from a list of words.\n",
    "# words = [\"apple\", \"banana\", \"apple\", \"grape\", \"banana\"]\n",
    "# Output:\n",
    "# ['apple', 'banana', 'grape']\n",
    "\n",
    "words = [\"apple\", \"banana\", \"apple\", \"grape\", \"banana\"]\n",
    "words2 = []\n",
    "\n",
    "for word in words:\n",
    "    if word not in words2:\n",
    "        words2.append(word)\n",
    "print(words2)\n",
    "\n",
    "    \n"
   ]
  },
  {
   "cell_type": "code",
   "execution_count": 64,
   "id": "18d0109d",
   "metadata": {},
   "outputs": [
    {
     "data": {
      "text/plain": [
       "['Dog', 'Zebra', 'cat', 'elephant']"
      ]
     },
     "execution_count": 64,
     "metadata": {},
     "output_type": "execute_result"
    }
   ],
   "source": [
    "# 13. Sort a list of strings in alphabetical order and print them.\n",
    "# animals = [\"Zebra\", \"elephant\", \"Dog\", \"cat\"]\n",
    "# Output:\n",
    "# ['Dog', 'Zebra', 'cat', 'elephant']\n",
    "\n",
    "animals = [\"Zebra\", \"elephant\", \"Dog\", \"cat\"]\n",
    "animals.sort()\n",
    "animals\n",
    "\n",
    "\n",
    "\n"
   ]
  },
  {
   "cell_type": "code",
   "execution_count": 65,
   "id": "0158a27d",
   "metadata": {},
   "outputs": [
    {
     "name": "stdout",
     "output_type": "stream",
     "text": [
      "john\n",
      "bob\n"
     ]
    }
   ],
   "source": [
    "# 14. From a list of names, print only those where all letters are lowercase.\n",
    "# names = [\"john\", \"ALICE\", \"bob\", \"Steve\"]\n",
    "# Output:\n",
    "# john\n",
    "# bob\n",
    "\n",
    "names = [\"john\", \"ALICE\", \"bob\", \"Steve\"]\n",
    "\n",
    "for name in names:\n",
    "    if name.islower():\n",
    "        print(name)"
   ]
  },
  {
   "cell_type": "code",
   "execution_count": 90,
   "id": "4bff7d3d",
   "metadata": {},
   "outputs": [
    {
     "name": "stdout",
     "output_type": "stream",
     "text": [
      "Hello world This is Python Praveen\n",
      "[5, 5, 4, 2, 6, 7]\n"
     ]
    }
   ],
   "source": [
    "# 15. Create a list of word lengths from a sentence, ignoring punctuation.\n",
    "# sentence = \"Hello, world! This is Python.\"\n",
    "# Output:\n",
    "# [5, 5, 4, 2, 6]\n",
    "\n",
    "sentence = \"Hello, world! This is Python. @@Praveen\"\n",
    "new_sentence = \"\"\n",
    "l = []\n",
    "\n",
    "for letter in sentence:\n",
    "    if letter.isalpha() or letter == \" \":\n",
    "        new_sentence = new_sentence + letter\n",
    "print(new_sentence)\n",
    "\n",
    "for word in new_sentence.split():\n",
    "    l.append(len(word))\n",
    "\n",
    "print(l)\n"
   ]
  },
  {
   "cell_type": "code",
   "execution_count": 94,
   "id": "bd71895e",
   "metadata": {},
   "outputs": [
    {
     "data": {
      "text/plain": [
       "[[[1, 2, 3], [4, 5, 6], [7, 8, 9]], [[11, 12, 13], [14, 15, 16], [17, 18, 19]]]"
      ]
     },
     "execution_count": 94,
     "metadata": {},
     "output_type": "execute_result"
    }
   ],
   "source": [
    "numbers_list = [[[1, 2, 3], [4, 5, 6], [7, 8, 9]], [[11, 12, 13], [14, 15, 16], [17, 18, 19]]]\n",
    "numbers_list"
   ]
  },
  {
   "cell_type": "code",
   "execution_count": 97,
   "id": "4d05710b",
   "metadata": {},
   "outputs": [
    {
     "name": "stdout",
     "output_type": "stream",
     "text": [
      "1\n",
      "2\n",
      "3\n",
      "4\n",
      "5\n",
      "6\n",
      "7\n",
      "8\n",
      "9\n",
      "11\n",
      "12\n",
      "13\n",
      "14\n",
      "15\n",
      "16\n",
      "17\n",
      "18\n",
      "19\n"
     ]
    }
   ],
   "source": [
    "for i in numbers_list:\n",
    "    for j in i:\n",
    "        for k in j:\n",
    "            print(k)"
   ]
  }
 ],
 "metadata": {
  "kernelspec": {
   "display_name": "my_ai_env",
   "language": "python",
   "name": "python3"
  },
  "language_info": {
   "codemirror_mode": {
    "name": "ipython",
    "version": 3
   },
   "file_extension": ".py",
   "mimetype": "text/x-python",
   "name": "python",
   "nbconvert_exporter": "python",
   "pygments_lexer": "ipython3",
   "version": "3.13.1"
  }
 },
 "nbformat": 4,
 "nbformat_minor": 5
}
