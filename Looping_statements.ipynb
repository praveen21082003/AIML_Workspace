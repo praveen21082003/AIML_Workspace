{
 "cells": [
  {
   "cell_type": "code",
   "execution_count": null,
   "id": "fbdea9a5",
   "metadata": {},
   "outputs": [
    {
     "name": "stdout",
     "output_type": "stream",
     "text": [
      "1\n",
      "2\n",
      "3\n",
      "4\n",
      "5\n",
      "6\n",
      "7\n",
      "8\n",
      "9\n",
      "10\n"
     ]
    }
   ],
   "source": [
    "# Looping statements \n",
    "#--------------------\n",
    "# Looping statements are used for reapt a block of code multiple times\n",
    "\n",
    "#1. for loop:\n",
    "# for loop is used when number of iteration are known\n",
    "# used to repeate the in a paticular given range.\n",
    "\n",
    "for i in range(1,11):\n",
    "    print(i)\n",
    "\n",
    "# pvm exclude end range it executes till (end-1)"
   ]
  },
  {
   "cell_type": "code",
   "execution_count": 2,
   "id": "39056af9",
   "metadata": {},
   "outputs": [
    {
     "name": "stdout",
     "output_type": "stream",
     "text": [
      "Number of digits are : 5\n"
     ]
    }
   ],
   "source": [
    "# 2. While loop:\n",
    "# while runs till the contion gets True\n",
    "# when end range is unknown while condition is used \n",
    "\n",
    "number = int(input(\"Enter a Number to count Number of digits present: \"))\n",
    "count = 0\n",
    "while number != 0 :\n",
    "    number = number//10\n",
    "    count = count + 1\n",
    "print(\"Number of digits are :\",count)\n",
    "\n"
   ]
  },
  {
   "cell_type": "code",
   "execution_count": null,
   "id": "7a08cd81",
   "metadata": {},
   "outputs": [],
   "source": [
    "\n",
    "num = int(input(\"enter a number\"))\n",
    "print(num)\n",
    "\n",
    "sum = 0\n",
    "while num != 0:\n",
    "    rem = num % 10\n",
    "    sum = sum + rem\n",
    "    num = num // 10\n",
    "print(sum)\n"
   ]
  },
  {
   "cell_type": "code",
   "execution_count": 3,
   "id": "0f3853ae",
   "metadata": {},
   "outputs": [
    {
     "name": "stdout",
     "output_type": "stream",
     "text": [
      "******\n",
      "******\n",
      "******\n",
      "******\n",
      "******\n",
      "******\n"
     ]
    }
   ],
   "source": [
    "# Nested loop\n",
    "\n",
    "# nested loops are used to repeate the inner loop multiple times till outer loop range\n",
    "\n",
    "for i in range(0,6):\n",
    "    for j in range(0,6):\n",
    "        print(\"*\",end=\"\")\n",
    "    print()"
   ]
  },
  {
   "cell_type": "code",
   "execution_count": 6,
   "id": "9eaebe5c",
   "metadata": {},
   "outputs": [
    {
     "name": "stdout",
     "output_type": "stream",
     "text": [
      "*\n",
      "**\n",
      "***\n",
      "****\n"
     ]
    }
   ],
   "source": [
    "for i in range(4):\n",
    "    for j in range(i+1):\n",
    "        print(\"*\",end=\"\")\n",
    "    print()\n",
    "\n"
   ]
  },
  {
   "cell_type": "code",
   "execution_count": 7,
   "id": "2202d91c",
   "metadata": {},
   "outputs": [
    {
     "name": "stdout",
     "output_type": "stream",
     "text": [
      "* * * * \n",
      "* * * \n",
      "* * \n",
      "* \n"
     ]
    }
   ],
   "source": [
    "for i in range(4):\n",
    "    for j in range(4,i,-1):\n",
    "        print(\"*\",end=\" \")\n",
    "    print()"
   ]
  },
  {
   "cell_type": "code",
   "execution_count": 8,
   "id": "02a6fd36",
   "metadata": {},
   "outputs": [
    {
     "name": "stdout",
     "output_type": "stream",
     "text": [
      "[1, 13, 17]\n"
     ]
    }
   ],
   "source": [
    "l = [1,12,13,17,20,18,46,100]\n",
    "l1=[]\n",
    "for item in l:\n",
    "    if item % 2 != 0 :\n",
    "        l1.append(item)\n",
    "print(l1)\n",
    "    "
   ]
  },
  {
   "cell_type": "code",
   "execution_count": 14,
   "id": "c3db937a",
   "metadata": {},
   "outputs": [
    {
     "name": "stdout",
     "output_type": "stream",
     "text": [
      "[1, 13, 17]\n"
     ]
    }
   ],
   "source": [
    "i = 0\n",
    "l2 = []\n",
    "while i != (len(l)-1):\n",
    "    if l[i] % 2 != 0 :\n",
    "        l2.append(l[i])\n",
    "    i = i + 1\n",
    "print(l2)\n"
   ]
  },
  {
   "cell_type": "code",
   "execution_count": 17,
   "id": "deb78e72",
   "metadata": {},
   "outputs": [
    {
     "name": "stdout",
     "output_type": "stream",
     "text": [
      "3\n"
     ]
    }
   ],
   "source": [
    "str = \"union\"\n",
    "count = 0\n",
    "for l in str:\n",
    "    if l in \"aeiou\":\n",
    "        count += 1\n",
    "print(count)"
   ]
  },
  {
   "cell_type": "code",
   "execution_count": 20,
   "id": "120309e9",
   "metadata": {},
   "outputs": [
    {
     "name": "stdout",
     "output_type": "stream",
     "text": [
      "[1, 4, 9, 16, 25, 36, 49, 64, 81, 100]\n"
     ]
    }
   ],
   "source": [
    "l = [i for i in range(1,11)]\n",
    "nl = []\n",
    "for i in l:\n",
    "    nl.append(i**2)\n",
    "print(nl)"
   ]
  },
  {
   "cell_type": "code",
   "execution_count": null,
   "id": "74bc304e",
   "metadata": {},
   "outputs": [],
   "source": []
  }
 ],
 "metadata": {
  "kernelspec": {
   "display_name": "my_ai_env",
   "language": "python",
   "name": "python3"
  },
  "language_info": {
   "codemirror_mode": {
    "name": "ipython",
    "version": 3
   },
   "file_extension": ".py",
   "mimetype": "text/x-python",
   "name": "python",
   "nbconvert_exporter": "python",
   "pygments_lexer": "ipython3",
   "version": "3.13.1"
  }
 },
 "nbformat": 4,
 "nbformat_minor": 5
}
