{
 "cells": [
  {
   "cell_type": "code",
   "execution_count": null,
   "id": "422b2bb2",
   "metadata": {},
   "outputs": [
    {
     "name": "stdout",
     "output_type": "stream",
     "text": [
      "20\n"
     ]
    }
   ],
   "source": [
    "# variable is a name that stores value in memory.\n",
    "# It acts like a container to store some data.\n",
    "\n",
    "x = 20 # x is a variable and 20 is the value storing in it using equal to operator.\n",
    "print(x) # to print the stored value in variable x."
   ]
  },
  {
   "cell_type": "code",
   "execution_count": null,
   "id": "ea31e3c8",
   "metadata": {},
   "outputs": [],
   "source": [
    "# DATATYPES\n",
    "# =========\n",
    "# Datatype define the type of value we are stroing into variable.\n",
    "# Datatypes in python:\n",
    "# 1. Integers: int ex:3,4,8\n",
    "# 2. Float: float ex: 3.4, 5.6\n",
    "# 3. Complex: complex ex: 3+4j, 5+6j\n",
    "# 4. String: str ex: 'hello', \"Good morning\"\n",
    "# 5. Boolean: bool ex: True, False\n",
    "# 6. List: list ex: [1,2,3], ['a','b']\n",
    "# 7. Tuple: tuple ex: (1,2,3), ('a','b')\n",
    "# 8. Dictionary: dict ex: {'a':1,'b':2}, {'name':'praveen'}\n",
    "# 9. Set: set ex: {1,2,3}, {'a','b','c'}"
   ]
  },
  {
   "cell_type": "code",
   "execution_count": null,
   "id": "61893b8d",
   "metadata": {},
   "outputs": [
    {
     "name": "stdout",
     "output_type": "stream",
     "text": [
      "<class 'int'>\n",
      "<class 'int'>\n"
     ]
    }
   ],
   "source": [
    "# 1. Integers: int ex:3,4,8\n",
    "\n",
    "x = 5\n",
    "y = -10\n",
    "print(type(x))\n",
    "print(type(y))\n",
    "\n",
    "# stores whole numbers without decimal points (Positive,Negative)"
   ]
  },
  {
   "cell_type": "code",
   "execution_count": null,
   "id": "7cab24c8",
   "metadata": {},
   "outputs": [
    {
     "name": "stdout",
     "output_type": "stream",
     "text": [
      "<class 'float'>\n",
      "<class 'float'>\n",
      "<class 'float'>\n"
     ]
    }
   ],
   "source": [
    "# 2. Float: float ex: 3.4, 5.6\n",
    "\n",
    "# stores real numbers with decimal points(Positive,Negative)\n",
    "\n",
    "x = 0.5\n",
    "pi = 3.14\n",
    "y = -10.1\n",
    "\n",
    "print(type(x))\n",
    "print(type(pi))\n",
    "print(type(y))\n"
   ]
  },
  {
   "cell_type": "code",
   "execution_count": null,
   "id": "d22f4922",
   "metadata": {},
   "outputs": [
    {
     "name": "stdout",
     "output_type": "stream",
     "text": [
      "(2+4j)\n",
      "2.0\n",
      "4.0\n",
      "<class 'complex'>\n",
      "<class 'float'>\n"
     ]
    }
   ],
   "source": [
    "# 3. Complex: complex ex: 3+4j, 5+6j\n",
    "\n",
    "# used for the complex numbers (real + imaginary)\n",
    "\n",
    "\n",
    "a = 2 + 4j # complex number 2 is real and 4 is imaginary\n",
    "print(a)\n",
    "print(a.real)\n",
    "print(a.imag)\n",
    "print(type(a))\n",
    "print(type(a.real))\n",
    "\n"
   ]
  },
  {
   "cell_type": "code",
   "execution_count": null,
   "id": "30fabaa1",
   "metadata": {},
   "outputs": [
    {
     "name": "stdout",
     "output_type": "stream",
     "text": [
      "<class 'str'>\n",
      "<class 'str'>\n",
      "<class 'str'>\n"
     ]
    }
   ],
   "source": [
    "# 4. String: str ex: 'hello', \"Good morning\"\n",
    "\n",
    "\n",
    "name = \"Praveen kumar\"\n",
    "msg = 'Hello'\n",
    "x = \"6\"\n",
    "\n",
    "print(type(name))\n",
    "print(type(msg))\n",
    "print(type(x))\n",
    "\n"
   ]
  },
  {
   "cell_type": "code",
   "execution_count": null,
   "id": "d0028773",
   "metadata": {},
   "outputs": [
    {
     "name": "stdout",
     "output_type": "stream",
     "text": [
      "True\n",
      "<class 'bool'>\n",
      "False\n",
      "True\n"
     ]
    }
   ],
   "source": [
    "# 5. Boolean: bool ex: True, False\n",
    "\n",
    "# represents truth values\n",
    "# used in conditional statements and logic\n",
    "# internaly ,True = 1,False = 0\n",
    "\n",
    "is_valid = True\n",
    "print(is_valid)\n",
    "print(type(is_valid))\n",
    "print(is_valid and False)\n",
    "print(True and True)"
   ]
  },
  {
   "cell_type": "code",
   "execution_count": 97,
   "id": "30dd0ca7",
   "metadata": {},
   "outputs": [
    {
     "name": "stdout",
     "output_type": "stream",
     "text": [
      "[1, 3, 'praveen', 'jhon', 'praveen']\n",
      "<class 'list'>\n"
     ]
    }
   ],
   "source": [
    "# 6. List: list ex: [1,2,3], ['a','b']\n",
    "\n",
    "\n",
    "\n",
    "l = [1,3,'praveen','jhon','praveen']\n",
    "print(l)\n",
    "print(type(l))\n",
    "\n",
    "\n"
   ]
  },
  {
   "cell_type": "code",
   "execution_count": 98,
   "id": "8da4e504",
   "metadata": {},
   "outputs": [
    {
     "name": "stdout",
     "output_type": "stream",
     "text": [
      "(2, 4, 6, 8, 9, 10) type <class 'tuple'>\n",
      "() type <class 'tuple'>\n",
      "3 (single tuple without coma) type <class 'int'>\n",
      "(3,) (single tuple with coma) type <class 'tuple'>\n"
     ]
    }
   ],
   "source": [
    "# 7. Tuple: tuple ex: (1,2,3), ('a','b')\n",
    "\n",
    "\n",
    "\n",
    "my_tuple = (2,4,6,8,9,10)\n",
    "empty = () # empty tuple\n",
    "single_tu1 = (3) # single element tuple comma is important\n",
    "single_tu2 = (3,) # single element tuple comma is important\n",
    "print(my_tuple,\"type\",type(my_tuple))\n",
    "print(empty,\"type\",type(empty))\n",
    "print(single_tu1,\"(single tuple without coma) type\",type(single_tu1))\n",
    "print(single_tu2,\"(single tuple with coma) type\",type(single_tu2))"
   ]
  },
  {
   "cell_type": "code",
   "execution_count": 99,
   "id": "01a53f53",
   "metadata": {},
   "outputs": [
    {
     "name": "stdout",
     "output_type": "stream",
     "text": [
      "{'name': 'praveen', 'age': 23, 'location': 'chennai', 'phone': {'ph1': 7981930348, 'ph2': 7204660348}}\n",
      "{'ph1': 7981930348, 'ph2': 7204660348}\n",
      "{'name': 'praveen', 'age': 23, 'location': 'chennai', 'phone': {'ph1': 7981930348, 'ph2': 7204660348}, 'email': 'praveen@gmail.com'}\n"
     ]
    }
   ],
   "source": [
    "# 8. Dictionary: dict ex: {'a':1,'b':2}, {'name':'praveen'}\n",
    "\n",
    "\n",
    "\n",
    "person = {\"name\" : 'praveen', 'age' : 23, 'location' : 'chennai', 'phone' : {'ph1' : 7981930348, 'ph2' : 7204660348} }\n",
    "print(person)\n",
    "print(person['phone']) # accessing with key\n",
    "\n",
    "person['email'] = 'praveen@gmail.com' # adding or update\n",
    "print(person)"
   ]
  }
 ],
 "metadata": {
  "kernelspec": {
   "display_name": "my_ai_env",
   "language": "python",
   "name": "python3"
  },
  "language_info": {
   "codemirror_mode": {
    "name": "ipython",
    "version": 3
   },
   "file_extension": ".py",
   "mimetype": "text/x-python",
   "name": "python",
   "nbconvert_exporter": "python",
   "pygments_lexer": "ipython3",
   "version": "3.13.1"
  }
 },
 "nbformat": 4,
 "nbformat_minor": 5
}
