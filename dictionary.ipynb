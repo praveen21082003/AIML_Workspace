{
 "cells": [
  {
   "cell_type": "code",
   "execution_count": 1,
   "id": "65891c84",
   "metadata": {},
   "outputs": [
    {
     "name": "stdout",
     "output_type": "stream",
     "text": [
      "{'name': 'praveen', 'age': 23, 'location': 'chennai', 'phone': {'ph1': 7981930348, 'ph2': 7204660348}}\n",
      "{'ph1': 7981930348, 'ph2': 7204660348}\n",
      "{'name': 'praveen', 'age': 23, 'location': 'chennai', 'phone': {'ph1': 7981930348, 'ph2': 7204660348}, 'email': 'praveen@gmail.com'}\n"
     ]
    }
   ],
   "source": [
    "# Dictionary\n",
    "#------------\n",
    "# stored key value pairs\n",
    "# keys are imutable and unique can be numabers ,strings, tuples\n",
    "# Vlaues can be any type\n",
    "# Unordered until Python 3.6+, now maintains insertion order.\n",
    "# acessing with key not index.\n",
    "\n",
    "person = {\"name\" : 'praveen', 'age' : 23, 'location' : 'chennai', 'phone' : {'ph1' : 7981930348, 'ph2' : 7204660348} }\n",
    "print(person)\n",
    "print(person['phone']) # accessing with key\n",
    "\n",
    "person['email'] = 'praveen@gmail.com' # adding or update\n",
    "print(person)"
   ]
  },
  {
   "cell_type": "code",
   "execution_count": 2,
   "id": "f03de005",
   "metadata": {},
   "outputs": [
    {
     "name": "stdout",
     "output_type": "stream",
     "text": [
      "{'name': 'praveen', 'age': 23, 'phone': {'ph1': 7981930348, 'ph2': 7204660348}, 'email': 'praveen@gmail.com'}\n",
      "{'name': 'praveen', 'age': 23, 'phone': {'ph1': 7981930348, 'ph2': 7204660348}, 'email': 'praveen@gmail.com', 'location': 'andhra'}\n",
      "{'name': 'praveen', 'age': 23, 'phone': {'ph1': 7981930348, 'ph2': 7204660348}, 'email': 'praveen@gmail.com'}\n"
     ]
    }
   ],
   "source": [
    "# removing\n",
    "del person['location']\n",
    "print(person)\n",
    "person['location'] = 'andhra'\n",
    "print(person)\n",
    "person.pop('location')\n",
    "print(person)"
   ]
  },
  {
   "cell_type": "code",
   "execution_count": null,
   "id": "66307093",
   "metadata": {},
   "outputs": [
    {
     "name": "stdout",
     "output_type": "stream",
     "text": [
      "dict_keys(['name', 'age', 'phone', 'email'])\n",
      "dict_values(['praveen', 23, {'ph1': 7981930348, 'ph2': 7204660348}, 'praveen@gmail.com'])\n",
      "dict_items([('name', 'praveen'), ('age', 23), ('phone', {'ph1': 7981930348, 'ph2': 7204660348}), ('email', 'praveen@gmail.com')])\n"
     ]
    }
   ],
   "source": [
    "# Geting keys,values, items\n",
    "print(person.keys())\n",
    "print(person.values())\n",
    "print(person.items())"
   ]
  },
  {
   "cell_type": "code",
   "execution_count": 4,
   "id": "790f4643",
   "metadata": {},
   "outputs": [
    {
     "name": "stdout",
     "output_type": "stream",
     "text": [
      "name  : praveen\n",
      "age  : 23\n",
      "ph1 : 7981930348\n",
      "ph2 : 7204660348\n",
      "email  : praveen@gmail.com\n",
      "7204660348\n"
     ]
    }
   ],
   "source": [
    "# Looping \n",
    "for key,value in person.items():\n",
    "    if key == 'phone':\n",
    "        for key,value in person['phone'].items():\n",
    "            print(f\"{key} : {value}\")\n",
    "        continue\n",
    "    print(key, \" :\", value)\n",
    "\n",
    "# nested dictionary\n",
    "print(person['phone']['ph2'])"
   ]
  }
 ],
 "metadata": {
  "kernelspec": {
   "display_name": "my_ai_env",
   "language": "python",
   "name": "python3"
  },
  "language_info": {
   "codemirror_mode": {
    "name": "ipython",
    "version": 3
   },
   "file_extension": ".py",
   "mimetype": "text/x-python",
   "name": "python",
   "nbconvert_exporter": "python",
   "pygments_lexer": "ipython3",
   "version": "3.13.1"
  }
 },
 "nbformat": 4,
 "nbformat_minor": 5
}
