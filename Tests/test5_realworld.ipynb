{
 "cells": [
  {
   "cell_type": "code",
   "execution_count": 2,
   "id": "1a5ff61f",
   "metadata": {},
   "outputs": [
    {
     "name": "stdout",
     "output_type": "stream",
     "text": [
      "john@example.com\n",
      "test123@gmail.com\n"
     ]
    }
   ],
   "source": [
    "# 1. Filter valid email addresses from a list. A valid email must contain '@' and end with '.com'.\n",
    "# emails = [\"john@example.com\", \"user@yahoo\", \"test123@gmail.com\", \"admin@server.org\"]\n",
    "# Output:\n",
    "# john@example.com\n",
    "# test123@gmail.com\n",
    "\n",
    "emails = [\"john@example.com\", \"user@yahoo\", \"test123@gmail.com\", \"admin@server.org\"]\n",
    "\n",
    "for mails_id in emails:\n",
    "    if \"@\" in mails_id and mails_id.endswith(\".com\"):\n",
    "        print(mails_id)\n"
   ]
  },
  {
   "cell_type": "code",
   "execution_count": 3,
   "id": "19b338e9",
   "metadata": {},
   "outputs": [
    {
     "name": "stdout",
     "output_type": "stream",
     "text": [
      "120.0\n",
      "200.5\n"
     ]
    }
   ],
   "source": [
    "# 2. From a list of prices (as strings), convert to float and print all prices above ₹100.\n",
    "# prices = [\"99.5\", \"120.0\", \"85\", \"200.5\"]\n",
    "# Output:\n",
    "# 120.0\n",
    "# 200.5\n",
    "\n",
    "prices = [\"99.5\", \"120.0\", \"85\", \"200.5\"]\n",
    "\n",
    "for price in prices:\n",
    "    if float(price) > 100:\n",
    "        print(price)\n"
   ]
  },
  {
   "cell_type": "code",
   "execution_count": 4,
   "id": "dbca8e04",
   "metadata": {},
   "outputs": [
    {
     "name": "stdout",
     "output_type": "stream",
     "text": [
      "I love Python!\n",
      "PYTHON rocks\n"
     ]
    }
   ],
   "source": [
    "\n",
    "# 3. Given a list of tweets, print only those that mention the keyword \"python\" (case-insensitive).\n",
    "# tweets = [\"I love Python!\", \"java is good\", \"PYTHON rocks\", \"Try Go!\"]\n",
    "# Output:\n",
    "# I love Python!\n",
    "# PYTHON rocks\n",
    "\n",
    "tweets = [\"I love Python!\", \"java is good\", \"PYTHON rocks\", \"Try Go!\"]\n",
    "\n",
    "for tweet in tweets:\n",
    "    if \"python\" in tweet.lower():\n",
    "        print(tweet)\n",
    "\n"
   ]
  },
  {
   "cell_type": "code",
   "execution_count": 5,
   "id": "94ea7d3f",
   "metadata": {},
   "outputs": [
    {
     "name": "stdout",
     "output_type": "stream",
     "text": [
      "oliver\n",
      "Grace\n"
     ]
    }
   ],
   "source": [
    "# 4. Print all usernames that contain only alphabets and are at least 5 characters long.\n",
    "# usernames = [\"john\", \"alex_123\", \"Emma\", \"oliver\", \"Grace\"]\n",
    "# Output:\n",
    "# oliver\n",
    "# Grace\n",
    "\n",
    "usernames = [\"john\", \"alex_123\", \"Emma\", \"oliver\", \"Grace\"]\n",
    "\n",
    "for users in usernames:\n",
    "    if users.isalpha() and len(users) >= 5:\n",
    "        print(users)\n"
   ]
  },
  {
   "cell_type": "code",
   "execution_count": 6,
   "id": "c56c7070",
   "metadata": {},
   "outputs": [
    {
     "name": "stdout",
     "output_type": "stream",
     "text": [
      "Oscar\n",
      "Alan\n",
      "Andy\n"
     ]
    }
   ],
   "source": [
    "# 5. From a list of names, print those that start with a vowel and end with a consonant.\n",
    "# names = [\"Alice\", \"Eve\", \"Oscar\", \"Uma\", \"Alan\", \"Andy\"]\n",
    "# Output:\n",
    "# Alice\n",
    "# Alan\n",
    "\n",
    "names = [\"Alice\", \"Eve\", \"Oscar\", \"Uma\", \"Alan\", \"Andy\"]\n",
    "\n",
    "for name in names:\n",
    "    if name[0].lower() in ['a', 'e', 'i', 'o', 'u'] and name[-1].lower() not in ['a', 'e', 'i', 'o', 'u']:\n",
    "        print(name)\n",
    "\n",
    "\n"
   ]
  },
  {
   "cell_type": "code",
   "execution_count": 14,
   "id": "c226139e",
   "metadata": {},
   "outputs": [
    {
     "name": "stdout",
     "output_type": "stream",
     "text": [
      "rejected: MyP@ss123 - should contains Atleat 10 characters\n",
      "Accepted: MyStrongPass123! — ✔️Accepted.\n",
      "rejected: 1234567890 - Expecting Atleast 1 uppercase, Expecting Atleast 1 special character\n",
      "rejected: NoSpecial12345 - Expecting Atleast 1 special character\n",
      "rejected: Valid1@Password - Expecting Atleast 3 digits\n"
     ]
    }
   ],
   "source": [
    "# Scenario:\n",
    "# You are working on a user registration system for a banking app. As part of the security check, your system must ensure all passwords meet strong requirements.\n",
    "\n",
    "# Rules:\n",
    "# A password is accepted if:\n",
    "# - It has at least 10 characters\n",
    "# - Contains at least 1 uppercase letter\n",
    "# - Contains at least 3 digits\n",
    "# - Contains at least 1 special character (!@#$%^&*()_+)\n",
    "# - Has no spaces\n",
    "\n",
    "# Task:\n",
    "# Loop through a list of passwords and print which ones are accepted and which are rejected, with reasons.\n",
    "\n",
    "# Sample Input:\n",
    "# passwords = [\n",
    "#     \"MyP@ss123\", \n",
    "#     \"MyStrongPass123!\",\n",
    "#     \"1234567890\",\n",
    "#     \"NoSpecial12345\",\n",
    "#     \"Valid1@Password\"\n",
    "# ]\n",
    "\n",
    "# Sample Output:\n",
    "# Rejected: MyP@ss123 — Less than 10 characters.\n",
    "# Accepted: MyStrongPass123! — Accepted.\n",
    "# Rejected: 1234567890 — No uppercase, no special character.\n",
    "# Rejected: NoSpecial12345 — No special character.\n",
    "# Accepted: Valid1@Password — Accepted.\n",
    "\n",
    "\n",
    "passwords = [\n",
    "    \"MyP@ss123\", \n",
    "    \"MyStrongPass123!\",\n",
    "    \"1234567890\",\n",
    "    \"NoSpecial12345\",\n",
    "    \"Valid1@Password\"\n",
    "]\n",
    "\n",
    "\n",
    "def counts(word):\n",
    "    d_count = 0\n",
    "    u_count = 0\n",
    "    s_count = 0\n",
    "    for letter in word:\n",
    "        if letter.isdigit():\n",
    "            d_count += 1\n",
    "        elif letter.isupper():\n",
    "            u_count += 1\n",
    "        elif not letter.isalpha():\n",
    "            if not letter.isdigit():\n",
    "                s_count += 1\n",
    "    return d_count,u_count,s_count\n",
    "\n",
    "            \n",
    "# c1,c2,c3 = counts(word)\n",
    "\n",
    "for password in passwords:\n",
    "    # print(counts(password))\n",
    "    # print(type(counts(password)))\n",
    "    d, u, s = counts(password)\n",
    "    if len(password) < 10:\n",
    "        print(f\"rejected: {password} - should contains Atleat 10 characters\")\n",
    "    elif u == 0 and s == 0:\n",
    "        print(f\"rejected: {password} - Expecting Atleast 1 uppercase, Expecting Atleast 1 special character\")\n",
    "    elif u == 0 and d < 3:\n",
    "        print(f\"rejected: {password} - Expecting Atleast 1 uppercase, less than 3 digits Not Accepted\")\n",
    "    elif s == 0:\n",
    "        print(f\"rejected: {password} - Expecting Atleast 1 special character\")\n",
    "    elif u == 0:\n",
    "        print(f\"rejected: {password} - Expecting Atleast 1 uppercase\")\n",
    "    elif d < 3:\n",
    "        print(f\"rejected: {password} - Expecting Atleast 3 digits\")\n",
    "    else:\n",
    "        print(f\"Accepted: {password} — ✔️Accepted.\")\n"
   ]
  },
  {
   "cell_type": "code",
   "execution_count": 3,
   "id": "d94feb0c",
   "metadata": {},
   "outputs": [
    {
     "name": "stdout",
     "output_type": "stream",
     "text": [
      "Valid.! username : john → Mail ID: john@gmail.com\n",
      "Invalid:Mail ID: fake@yahoo.com\n",
      "Invalid:Mail ID: invalid@gmailcom\n",
      "Valid.! username : test.user → Mail ID: test.user@gmail.com\n"
     ]
    }
   ],
   "source": [
    "# Program 2: Email Domain Extractor and Validator\n",
    "# -----------------------------------------------\n",
    "\n",
    "# Scenario:\n",
    "# You are working on a CRM system that collects customer emails.\n",
    "# Your task is to extract only valid Gmail addresses and get their usernames (before the @ symbol) for further communication.\n",
    "\n",
    "# Rules:\n",
    "# - An email is valid if:\n",
    "#   - It contains exactly one @\n",
    "#   - Ends with @gmail.com\n",
    "# - You should extract the username part for each valid email.\n",
    "\n",
    "# Sample Input:\n",
    "# emails = [\n",
    "#     \"john@gmail.com\",\n",
    "#     \"fake@yahoo.com\",\n",
    "#     \"invalid@gmailcom\",\n",
    "#     \"test.user@gmail.com\"\n",
    "# ]\n",
    "\n",
    "# Sample Output:\n",
    "# Valid: john → john@gmail.com\n",
    "# Valid: test.user → test.user@gmail.com\n",
    "# Invalid: fake@yahoo.com\n",
    "# Invalid: invalid@gmailcom\n",
    "\n",
    "emails = [\n",
    "    \"john@gmail.com\",\n",
    "    \"fake@yahoo.com\",\n",
    "    \"invalid@gmailcom\",\n",
    "    \"test.user@gmail.com\"\n",
    "]\n",
    "\n",
    "for email in emails:\n",
    "    if email.endswith(\"@gmail.com\"):\n",
    "        user_name = email.split(\"@\")\n",
    "        print(f\"Valid.! username : {user_name[0]} → Mail ID: {email}\")\n",
    "    else:\n",
    "        print(f\"Invalid Mail ID: {email}\")\n"
   ]
  },
  {
   "cell_type": "code",
   "execution_count": 16,
   "id": "476f8f6a",
   "metadata": {},
   "outputs": [
    {
     "data": {
      "text/plain": [
       "['praveen', 'gmail.com']"
      ]
     },
     "execution_count": 16,
     "metadata": {},
     "output_type": "execute_result"
    }
   ],
   "source": [
    "\"praveen@gmail.com\".split(\"@\")"
   ]
  },
  {
   "cell_type": "code",
   "execution_count": null,
   "id": "27baa88e",
   "metadata": {},
   "outputs": [
    {
     "name": "stdout",
     "output_type": "stream",
     "text": [
      "Skiped | invalid product: bad#sku!\n",
      "Skiped | invalid product: 123\n",
      "clened SKUs: ['abc123', 'XYZ789', 'okSku7']\n"
     ]
    }
   ],
   "source": [
    "# Program 3: Filter and Format Product SKUs\n",
    "# -----------------------------------------\n",
    "\n",
    "# Scenario:\n",
    "# You are building a tool to clean up a messy product catalog. Each product SKU (Stock Keeping Unit) should be:\n",
    "# - Alphanumeric only\n",
    "# - At least 6 characters\n",
    "# - Converted to uppercase\n",
    "\n",
    "# Task:\n",
    "# Loop through a list of SKUs and create a clean list.\n",
    "\n",
    "# Sample Input:\n",
    "# skus = [\n",
    "#     \"abc123\", \n",
    "#     \"  XYZ789\", \n",
    "#     \"bad#sku!\", \n",
    "#     \"okSku7\", \n",
    "#     \"123\"\n",
    "# ]\n",
    "\n",
    "# Sample Output:\n",
    "# Clean SKUs: ['ABC123', 'XYZ789', 'OKSKU7']\n",
    "# Skipped invalid: bad#sku!\n",
    "# Skipped invalid: 123\n",
    "\n",
    "\n",
    "skus = [\n",
    "    \"abc123\", \n",
    "    \"  XYZ789\", \n",
    "    \"bad#sku!\", \n",
    "    \"okSku7\", \n",
    "    \"123\"\n",
    "]\n",
    "\n",
    "# cleaning products\n",
    "def cleaning_SKUs(clean_product):\n",
    "    if len(clean_product.strip()) >= 6:\n",
    "        return True\n",
    "    return False\n",
    "\n",
    "\n",
    "clean_SKUs = []\n",
    "\n",
    "for product in skus:\n",
    "    digits,uppers,Special = counts(product.strip()) # flitering the special case in product\n",
    "    if Special > 0:\n",
    "        print(f\"Skiped | invalid product: {product}\")\n",
    "    elif cleaning_SKUs(product):\n",
    "        clean_SKUs.append(product.strip())\n",
    "    else:\n",
    "        print(f\"Skiped | invalid product: {product }\")\n",
    "print(f\"clened SKUs: {clean_SKUs}\")\n",
    "\n",
    "\n"
   ]
  }
 ],
 "metadata": {
  "kernelspec": {
   "display_name": "my_ai_env",
   "language": "python",
   "name": "python3"
  },
  "language_info": {
   "codemirror_mode": {
    "name": "ipython",
    "version": 3
   },
   "file_extension": ".py",
   "mimetype": "text/x-python",
   "name": "python",
   "nbconvert_exporter": "python",
   "pygments_lexer": "ipython3",
   "version": "3.13.1"
  }
 },
 "nbformat": 4,
 "nbformat_minor": 5
}
