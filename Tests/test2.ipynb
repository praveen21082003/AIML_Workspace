{
 "cells": [
  {
   "cell_type": "code",
   "execution_count": 86,
   "id": "9f240c10",
   "metadata": {},
   "outputs": [
    {
     "name": "stdout",
     "output_type": "stream",
     "text": [
      "2 4 6 8 10 12 14 16 18 20 "
     ]
    }
   ],
   "source": [
    "# 1. Print all even numbers between 1 and 20 using a for loop.\n",
    "#Output: 2 4 6 8 10 12 14 16 18 20\n",
    "\n",
    "for even in range(2,21):\n",
    "    if even % 2 == 0:\n",
    "        print(even,end=\" \")\n",
    "    "
   ]
  },
  {
   "cell_type": "code",
   "execution_count": 25,
   "id": "44caac8b",
   "metadata": {},
   "outputs": [
    {
     "name": "stdout",
     "output_type": "stream",
     "text": [
      "5\n"
     ]
    }
   ],
   "source": [
    "#2. Ask the user to enter a sentence, and count how many words it has.\n",
    "#    Input: \"Python is amazing\"\n",
    "#    Output: Word count: \n",
    "\n",
    "'''sen = input(\"enter a sentance\").strip()+\" \"\n",
    "print(sen)\n",
    "count = 0\n",
    "for i in sen:\n",
    "    if i == \" \":\n",
    "        count += 1\n",
    "print(f\"wordcount:{count}\")\n",
    "\n",
    "\n",
    "\n",
    "\n",
    "sen = input(\"enter a sentance\").strip()\n",
    "newsen = \" \".join(sen.split())+\" \"\n",
    "print(sen)\n",
    "count = 0\n",
    "for i in newsen:\n",
    "    if i == \" \":\n",
    "        count += 1\n",
    "print(f\"wordcount:{count}\")'''\n",
    "\n",
    "sen = input(\"enter a sentance\")\n",
    "newsen = \" \".join(sen.split())\n",
    "print(len(newsen.split()))\n",
    "\n",
    "\n"
   ]
  },
  {
   "cell_type": "code",
   "execution_count": 87,
   "id": "ba788a13",
   "metadata": {},
   "outputs": [
    {
     "data": {
      "text/plain": [
       "['hello', 'praveen']"
      ]
     },
     "execution_count": 87,
     "metadata": {},
     "output_type": "execute_result"
    }
   ],
   "source": [
    "a = \"hello praveen\"\n",
    "a.split()"
   ]
  },
  {
   "cell_type": "code",
   "execution_count": 88,
   "id": "0b3d9c7a",
   "metadata": {},
   "outputs": [
    {
     "name": "stdout",
     "output_type": "stream",
     "text": [
      "Count of words in the sentence is 5\n"
     ]
    }
   ],
   "source": [
    "user_input: str = input(\"Enter the sentence: \").strip()\n",
    "print(f\"Count of words in the sentence is {len(user_input.split())}\")"
   ]
  },
  {
   "cell_type": "code",
   "execution_count": 7,
   "id": "b64842e5",
   "metadata": {},
   "outputs": [
    {
     "name": "stdout",
     "output_type": "stream",
     "text": [
      "stopped.\n"
     ]
    }
   ],
   "source": [
    "#3. Keep asking for numbers using while until the user enters a negative number.\n",
    "#    Output:\n",
    "#    Enter a number: 10\n",
    "#    Enter a number: 5\n",
    "#    Enter a number: -1\n",
    "#    Stopped.\n",
    "\n",
    "\n",
    "while True:\n",
    "    num = int(input(\"enter a number :\"))\n",
    "    if num < 0:\n",
    "        break\n",
    "print(\"stopped.\")"
   ]
  },
  {
   "cell_type": "code",
   "execution_count": null,
   "id": "50082024",
   "metadata": {},
   "outputs": [
    {
     "name": "stdout",
     "output_type": "stream",
     "text": [
      "Apple, Mango, \n"
     ]
    }
   ],
   "source": [
    "# 4. From a list of fruits, print the ones that start with a capital letter.\n",
    "#    List: [\"Apple\", \"banana\", \"Mango\", \"grape\"]\n",
    "#    Output: Apple, Mango\n",
    "\n",
    "list = [\"Apple\",\"banana\",\"Mango\",\"grape\"]\n",
    "c = \"\"\n",
    "\n",
    "for ele in list:\n",
    "    if 65 <= ord(ele[0]) <= 90:\n",
    "        c = c  + ele +\", \"\n",
    "print(c)\n"
   ]
  },
  {
   "cell_type": "code",
   "execution_count": 95,
   "id": "53e48828",
   "metadata": {},
   "outputs": [
    {
     "name": "stdout",
     "output_type": "stream",
     "text": [
      "Apple\n",
      "Mango\n"
     ]
    }
   ],
   "source": [
    "fruits = [\"Apple\",\"banana\",\"Mango\",\"grape\"]\n",
    "\n",
    "for fruit in fruits:\n",
    "    if fruit[0].isupper():\n",
    "        print(fruit)"
   ]
  },
  {
   "cell_type": "code",
   "execution_count": null,
   "id": "06bde3b6",
   "metadata": {},
   "outputs": [
    {
     "name": "stdout",
     "output_type": "stream",
     "text": [
      "password too short. Try again\n",
      "Accepted\n"
     ]
    }
   ],
   "source": [
    "# 5. Check if a password entered by user is at least 8 characters long.\n",
    "#    Output:\n",
    "#    Enter password: test\n",
    "#    Password too short. Try again.\n",
    "#    Enter password: secret123\n",
    "#    Accepted.\n",
    "\n",
    "while True:\n",
    "    password = input(\"Enter your password:\")\n",
    "\n",
    "    if len(password) >= 8:\n",
    "        print(\"Accepted\")\n",
    "        break\n",
    "    else:\n",
    "        print(\"password too short. Try again\")\n"
   ]
  },
  {
   "cell_type": "code",
   "execution_count": 92,
   "id": "fb25cc3b",
   "metadata": {},
   "outputs": [
    {
     "name": "stdout",
     "output_type": "stream",
     "text": [
      "Vowel count:5\n"
     ]
    }
   ],
   "source": [
    "# 6. Loop through a sentence and count how many characters are vowels.\n",
    "#    Input: \"hello world\"\n",
    "#    Output: Vowel count: 3\n",
    "\n",
    "sen = input(\"enter a sentance :\").strip().lower()\n",
    "count = 0\n",
    "for c in sen:\n",
    "    if c in [\"a\",\"e\",\"i\",\"o\",\"u\"]:\n",
    "        count += 1\n",
    "print(f\"Vowel count:{count}\")\n"
   ]
  },
  {
   "cell_type": "code",
   "execution_count": 30,
   "id": "2dc5dc2a",
   "metadata": {},
   "outputs": [
    {
     "name": "stdout",
     "output_type": "stream",
     "text": [
      "pravvena\n",
      "sita\n",
      "rama\n",
      "kavitha\n"
     ]
    }
   ],
   "source": [
    "# 7. Ask user for 5 names, print names that end with the letter \"a\".\n",
    "#    Output:\n",
    "#    Reema\n",
    "#    Sara\n",
    "#    Nita\n",
    "\n",
    "list_names = []\n",
    "\n",
    "for i in range(1,6):\n",
    "    names = input(\"Enter name:\").rstrip()\n",
    "    list_names.append(names)\n",
    "# print(\"\\n\".join([n for n in list_names if n[len(n)-1] == \"a\"]))\n",
    "for name in list_names:\n",
    "    if name.endswith(\"a\"):\n",
    "        print(name)\n"
   ]
  },
  {
   "cell_type": "code",
   "execution_count": 40,
   "id": "0b702b54",
   "metadata": {},
   "outputs": [
    {
     "name": "stdout",
     "output_type": "stream",
     "text": [
      "1\n",
      "2\n",
      "Fizz\n",
      "4\n",
      "5\n",
      "Fizz\n",
      "7\n",
      "8\n",
      "Fizz\n",
      "10\n",
      "11\n",
      "Fizz\n",
      "13\n",
      "14\n",
      "Fizz\n",
      "16\n",
      "17\n",
      "Fizz\n",
      "19\n",
      "20\n",
      "Fizz\n",
      "22\n",
      "23\n",
      "Fizz\n",
      "25\n",
      "26\n",
      "Fizz\n",
      "28\n",
      "29\n",
      "Fizz\n"
     ]
    }
   ],
   "source": [
    "#8. Print numbers from 1 to 30. If number is divisible by 3, print \"Fizz\", else print the number.\n",
    "for nums in range(1,31):\n",
    "    if nums % 3 == 0:\n",
    "        print(\"Fizz\")\n",
    "    else:\n",
    "        print(nums)\n"
   ]
  },
  {
   "cell_type": "code",
   "execution_count": 53,
   "id": "f9681525",
   "metadata": {},
   "outputs": [
    {
     "name": "stdout",
     "output_type": "stream",
     "text": [
      "123, 42, 007, "
     ]
    }
   ],
   "source": [
    "# 9. Loop through a list of strings and print only the ones that are all digits.\n",
    "#    Input: [\"123\", \"abc\", \"42\", \"3.14\", \"007\"]\n",
    "#    Output: 123, 42, 007\n",
    "list = [\"123\", \"abc\", \"42\", \"3.14\", \"007\"]\n",
    "\n",
    "for ele in list:\n",
    "    if ele.isdigit():\n",
    "        print(ele,end=\", \")\n",
    "\n",
    "\n",
    "        \n"
   ]
  },
  {
   "cell_type": "code",
   "execution_count": 97,
   "id": "6daf1c4e",
   "metadata": {},
   "outputs": [
    {
     "name": "stdout",
     "output_type": "stream",
     "text": [
      "neevarp\n"
     ]
    }
   ],
   "source": [
    "# 10. Take a string input and print the reversed string using a for loop.\n",
    "#     Input: \"Python\"\n",
    "#     Output: nohtyP\n",
    "\n",
    "str = input(\"enter a string\")\n",
    "revstr = \"\"\n",
    "for i in str:\n",
    "    revstr =  i + revstr\n",
    "print(revstr)\n"
   ]
  },
  {
   "cell_type": "code",
   "execution_count": 104,
   "id": "6772602d",
   "metadata": {},
   "outputs": [
    {
     "data": {
      "text/plain": [
       "'neevarP'"
      ]
     },
     "execution_count": 104,
     "metadata": {},
     "output_type": "execute_result"
    }
   ],
   "source": [
    "var = \"Praveen\"\n",
    "var[::-1]"
   ]
  },
  {
   "cell_type": "code",
   "execution_count": 27,
   "id": "e9a63c1a",
   "metadata": {},
   "outputs": [
    {
     "name": "stdout",
     "output_type": "stream",
     "text": [
      "p,a,e,"
     ]
    }
   ],
   "source": [
    "# 11. Create a loop that prints every second character from a string.\n",
    "#     Input: \"abcdef\"\n",
    "#     Output: a, c, e\n",
    "\n",
    "str = input(\"Enter a string : \").strip()\n",
    "\n",
    "\n",
    "for ele in range(len(str)-1):\n",
    "    if ele % 2 == 0:\n",
    "        print(str[ele], end=\",\")\n",
    "\n"
   ]
  },
  {
   "cell_type": "code",
   "execution_count": 106,
   "id": "e26e3f70",
   "metadata": {},
   "outputs": [
    {
     "name": "stdout",
     "output_type": "stream",
     "text": [
      "4\n"
     ]
    }
   ],
   "source": [
    "# 12. Ask the user to enter a string. Count how many uppercase letters it has.\n",
    "#     Input: \"PyTHon\"\n",
    "#     Output: Uppercase letters: 3\n",
    "\n",
    "str = input(\"Enter a string\").strip()\n",
    "count = 0\n",
    "for i in str:\n",
    "    if i.isupper():\n",
    "        count += 1\n",
    "print(count)\n",
    "\n",
    "# upper_l = 0\n",
    "# for i in str:\n",
    "#     if 65 <= ord(i) <= 90:\n",
    "#         upper_l += 1\n",
    "# print(f\"Uppercase Letters:{upper_l}\")\n",
    "\n",
    "\n"
   ]
  },
  {
   "cell_type": "code",
   "execution_count": 65,
   "id": "2b885108",
   "metadata": {},
   "outputs": [
    {
     "name": "stdout",
     "output_type": "stream",
     "text": [
      "Too short. Try again !\n",
      "Accepted\n"
     ]
    }
   ],
   "source": [
    "#13. Repeat asking a name until user gives a name longer than 5 characters.\n",
    "    # Output:\n",
    "    # Enter name: Max\n",
    "    # Too short. Try again.\n",
    "    # Enter name: Michael\n",
    "    # Accepted.\n",
    "\n",
    "while True:\n",
    "    name = input(\"Enter your name:\").strip()\n",
    "\n",
    "    if len(name) > 5:\n",
    "        print(\"Accepted\")\n",
    "        break\n",
    "    else:\n",
    "        print(\"Too short. Try again !\")\n"
   ]
  },
  {
   "cell_type": "code",
   "execution_count": 72,
   "id": "fba704a7",
   "metadata": {},
   "outputs": [
    {
     "name": "stdout",
     "output_type": "stream",
     "text": [
      "1 - Odd,  2 - Even, 2 - Odd,  3 - Odd,  4 - Even, 4 - Odd,  5 - Odd,  6 - Even, 6 - Odd,  7 - Odd,  8 - Even, 8 - Odd,  9 - Odd,  10 - Even, 10 - Odd,  11 - Odd,  12 - Even, 12 - Odd,  13 - Odd,  14 - Even, 14 - Odd,  15 - Odd,  "
     ]
    }
   ],
   "source": [
    "\n",
    "# 14. Loop through numbers from 1 to 15 and print whether each is \"Even\" or \"Odd\".\n",
    "#     Output: 1 - Odd, 2 - Even, ..., 15 - Odd\n",
    "\n",
    "for i in range(1,16):\n",
    "    if i % 2 == 0:\n",
    "        print(f\"{i} - Even\",end=\", \")\n",
    "    print(f\"{i} - Odd\",end=\",  \")"
   ]
  },
  {
   "cell_type": "code",
   "execution_count": null,
   "id": "fc3101c7",
   "metadata": {},
   "outputs": [
    {
     "name": "stdout",
     "output_type": "stream",
     "text": [
      "Elephant,Tiger,"
     ]
    }
   ],
   "source": [
    "# 15. From a list of strings, print those that contain the letter “e” (case-insensitive).\n",
    "    # List: [\"Dog\", \"Elephant\", \"Tiger\", \"Ant\"]\n",
    "    # Output: Elephant, Tiger\n",
    "\n",
    "list = [\"Dog\", \"Elephant\", \"Tiger\", \"Ant\"]\n",
    "\n",
    "\n",
    "for str in list:\n",
    "    if \"e\" in str or \"E\" in str:\n",
    "        print(str,end=\", \")"
   ]
  },
  {
   "cell_type": "code",
   "execution_count": null,
   "id": "41f06d5d",
   "metadata": {},
   "outputs": [
    {
     "name": "stdout",
     "output_type": "stream",
     "text": [
      "Hellowelcome!..myNameisPraaveenageis23mail_idispr@gmai.com\n",
      "Hello welcome !.. my Name is Praaveen age is 23 mail_id is pr@gmai.com\n",
      "count of Digits:2\n",
      "count of Uppercase:3\n",
      "count of lowercase:47\n",
      "count of special charecters:6\n",
      "count of words in sentance:13\n"
     ]
    }
   ],
   "source": [
    "# WRITE A PROGRAM TO COUNT THE\n",
    "#  NUMBER OF DIGITS, UPPER CASE, LOWER CASE, SPECIAL CHARACTERS,\n",
    "#  ALSO THE COUNT OF WORDS IN THAT SENTENCE\n",
    "\n",
    "sen = input(\"Enter a sentance\")\n",
    "special = \"\".join(sen.split())\n",
    "print(special)\n",
    "print(sen)\n",
    "\n",
    "digit_count = 0\n",
    "upper_count = 0\n",
    "lower_count = 0\n",
    "special_count = 0\n",
    "for l in sen:\n",
    "    if l.isdigit():\n",
    "        digit_count += 1\n",
    "    elif l.isupper():\n",
    "        upper_count += 1\n",
    "    elif l.islower():\n",
    "        lower_count += 1\n",
    "\n",
    "for l1 in special:\n",
    "    if not l1.isalnum():\n",
    "        special_count += 1\n",
    "        \n",
    "print(f\"count of Digits:{digit_count}\")\n",
    "print(f\"count of Uppercase:{upper_count}\")\n",
    "print(f\"count of lowercase:{lower_count}\")\n",
    "print(f\"count of special charecters:{special_count}\")\n",
    "print(f\"count of words in sentance:{len(sen.split())}\")\n",
    "\n",
    "  \n",
    "    "
   ]
  },
  {
   "cell_type": "code",
   "execution_count": null,
   "id": "22596e8f",
   "metadata": {},
   "outputs": [
    {
     "data": {
      "text/plain": [
       "False"
      ]
     },
     "execution_count": 28,
     "metadata": {},
     "output_type": "execute_result"
    }
   ],
   "source": [
    "str = \"praveen you name \"\n",
    "str.isalnum()"
   ]
  }
 ],
 "metadata": {
  "kernelspec": {
   "display_name": "my_ai_env",
   "language": "python",
   "name": "python3"
  },
  "language_info": {
   "codemirror_mode": {
    "name": "ipython",
    "version": 3
   },
   "file_extension": ".py",
   "mimetype": "text/x-python",
   "name": "python",
   "nbconvert_exporter": "python",
   "pygments_lexer": "ipython3",
   "version": "3.13.1"
  }
 },
 "nbformat": 4,
 "nbformat_minor": 5
}
