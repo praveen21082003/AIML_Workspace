{
 "cells": [
  {
   "cell_type": "code",
   "execution_count": 31,
   "id": "760701a7",
   "metadata": {},
   "outputs": [
    {
     "name": "stdout",
     "output_type": "stream",
     "text": [
      "praveen kumar Welcome to our site\n"
     ]
    }
   ],
   "source": [
    "# 1. Ask the user to enter their name and print a welcome message using it.\n",
    "\n",
    "name = input(\"Enter your name:\")\n",
    "print(name,\"Welcome to our site\")"
   ]
  },
  {
   "cell_type": "code",
   "execution_count": null,
   "id": "74822865",
   "metadata": {},
   "outputs": [
    {
     "name": "stdout",
     "output_type": "stream",
     "text": [
      "-19 is Negative number\n"
     ]
    }
   ],
   "source": [
    "#2. Ask the user to enter a number and print whether it is positive or negative.\n",
    "\n",
    "num = int(input(\"Enter Number to check Positive or Negative : \"))\n",
    "if num < 0:\n",
    "    print(num,\"is Negative number\")\n",
    "else:\n",
    "    print(num,\"is Positive number \")"
   ]
  },
  {
   "cell_type": "code",
   "execution_count": 24,
   "id": "0d5df7be",
   "metadata": {},
   "outputs": [
    {
     "name": "stdout",
     "output_type": "stream",
     "text": [
      "Eligible to Vote\n"
     ]
    }
   ],
   "source": [
    "# 3.Take the user's age as input. If the age is 18 or more, print \"Eligible to vote\".\n",
    "\n",
    "age = int(input(\"Enter your age: \"))\n",
    "\n",
    "if age >= 18 :\n",
    "    print(\"Eligible to Vote\")\n",
    "else:\n",
    "    print(\"Not Eligible to Vote\")"
   ]
  },
  {
   "cell_type": "code",
   "execution_count": 25,
   "id": "e1ea4e1e",
   "metadata": {},
   "outputs": [
    {
     "name": "stdout",
     "output_type": "stream",
     "text": [
      "Nice Choice!\n"
     ]
    }
   ],
   "source": [
    "#4. Ask the user for their favorite programming language. If it is \"Python\", print \"Nice Choice!\".\n",
    "\n",
    "fav = input(\"Enter Favorite Programming Language \")\n",
    "\n",
    "if fav.lower() == \"python\":\n",
    "    print(\"Nice Choice!\")"
   ]
  },
  {
   "cell_type": "code",
   "execution_count": 26,
   "id": "5bc9e271",
   "metadata": {},
   "outputs": [
    {
     "name": "stdout",
     "output_type": "stream",
     "text": [
      "The sum of 67 and 66 is: 133\n"
     ]
    }
   ],
   "source": [
    "# 5. Get two numbers from the user and print their sum.\n",
    "\n",
    "num1 = int(input(\"Enter a number \"))\n",
    "num2 = int(input(\"Enter a number \"))\n",
    "\n",
    "print(\"The sum of\",num1,\"and\",num2,\"is:\",num1+num2)"
   ]
  },
  {
   "cell_type": "code",
   "execution_count": 27,
   "id": "613c4f52",
   "metadata": {},
   "outputs": [
    {
     "name": "stdout",
     "output_type": "stream",
     "text": [
      "The capital of India is Delhi\n"
     ]
    }
   ],
   "source": [
    "#6. Ask the user to enter their city. If the city is \"Delhi\", print \"Capital of India\".\n",
    "\n",
    "city = input(\"Enter a city :\")\n",
    "\n",
    "if city.lower() == \"delhi\":\n",
    "    print(\"The capital of India is Delhi\")"
   ]
  },
  {
   "cell_type": "code",
   "execution_count": 28,
   "id": "d8d918ec",
   "metadata": {},
   "outputs": [
    {
     "name": "stdout",
     "output_type": "stream",
     "text": [
      "2 Is Even number\n"
     ]
    }
   ],
   "source": [
    "#7. Take a number from the user. If the number is even, print \"Even number\", else print \"Odd number\".\n",
    "\n",
    "num = int(input(\"Enter a number:\"))\n",
    "\n",
    "if num % 2 == 0:\n",
    "    print(num,\"Is Even number\")\n",
    "else:\n",
    "    print(num,\"Is Odd number\")\n"
   ]
  },
  {
   "cell_type": "code",
   "execution_count": 29,
   "id": "487c775a",
   "metadata": {},
   "outputs": [
    {
     "name": "stdout",
     "output_type": "stream",
     "text": [
      "Grade A\n"
     ]
    }
   ],
   "source": [
    "#8. Ask the user for their score. If it's 90 or more, print \"Grade A\", elif 75 or more print \"Grade B\", else print \"Grade C\".\n",
    "\n",
    "score = int(input(\"Enter your Score\"))\n",
    "\n",
    "if score >= 90 :\n",
    "    print(\"Grade A\")\n",
    "elif score >= 75:\n",
    "    print(\"Grade B\")\n",
    "else:\n",
    "    print(\"Grade C\")"
   ]
  },
  {
   "cell_type": "code",
   "execution_count": 32,
   "id": "78e6423b",
   "metadata": {},
   "outputs": [
    {
     "name": "stdout",
     "output_type": "stream",
     "text": [
      "Invalid input\n"
     ]
    }
   ],
   "source": [
    "# 9. Get the user's gender (`M` or `F`). If 'M', print \"Male\", if 'F', \n",
    "# print \"Female\", else print \"Invalid input\".\n",
    "\n",
    "gender = input(\"Enter your genter M or F :\")\n",
    "\n",
    "if gender.upper() == 'M':\n",
    "    print(\"Male\")\n",
    "elif gender.upper() == 'F':\n",
    "    print(\"Female\")\n",
    "else:\n",
    "    print(\"Invalid input\")\n"
   ]
  },
  {
   "cell_type": "code",
   "execution_count": 33,
   "id": "1239ff5d",
   "metadata": {},
   "outputs": [
    {
     "name": "stdout",
     "output_type": "stream",
     "text": [
      "Number is divisible for 5\n"
     ]
    }
   ],
   "source": [
    "# 10. Take input for a number. If it's a multiple of 5, print \"Divisible by 5\".\n",
    "\n",
    "num = int(input(\"Enter any number :\"))\n",
    "\n",
    "if num % 5 == 0 :\n",
    "    print(\"Number is divisible for 5\")\n",
    "else:\n",
    "    print(\"NOT\")"
   ]
  },
  {
   "cell_type": "code",
   "execution_count": 35,
   "id": "2dc28e12",
   "metadata": {},
   "outputs": [
    {
     "name": "stdout",
     "output_type": "stream",
     "text": [
      "Fail\n"
     ]
    }
   ],
   "source": [
    "# 11. Ask the user to enter their marks. If marks are 33 or more, print \"Pass\", otherwise print \"Fail\".\n",
    "\n",
    "marks = int(input(\"Enter marks:\"))\n",
    "\n",
    "if marks >= 33:\n",
    "    print(\"Pass\")\n",
    "else:\n",
    "    print(\"Fail\")\n",
    "    "
   ]
  },
  {
   "cell_type": "code",
   "execution_count": 36,
   "id": "09b03ff0",
   "metadata": {},
   "outputs": [
    {
     "name": "stdout",
     "output_type": "stream",
     "text": [
      "praveen ! Your age is 23\n"
     ]
    }
   ],
   "source": [
    "#12. Take the user's name and age as input, and print both in one sentence.\n",
    "\n",
    "name = input(\"Enter your name\")\n",
    "age = int(input(\"enter your age\"))\n",
    "\n",
    "print(name,\"! Your age is\",age)"
   ]
  },
  {
   "cell_type": "code",
   "execution_count": 37,
   "id": "aa529deb",
   "metadata": {},
   "outputs": [
    {
     "name": "stdout",
     "output_type": "stream",
     "text": [
      "Too Hot\n"
     ]
    }
   ],
   "source": [
    "#13. Ask for a temperature value. If it's more than 35, print \"Too Hot\".\n",
    "\n",
    "temperature = int(input(\"Enter present temperature \"))\n",
    "\n",
    "if temperature > 35 :\n",
    "    print(\"Too Hot\")\n"
   ]
  },
  {
   "cell_type": "code",
   "execution_count": 38,
   "id": "194ca8a6",
   "metadata": {},
   "outputs": [
    {
     "name": "stdout",
     "output_type": "stream",
     "text": [
      "Big number\n"
     ]
    }
   ],
   "source": [
    "# Input a number and check if it's greater than 100. If yes, print \"Big Number\".\n",
    "\n",
    "num = int(input(\"enter a number\"))\n",
    "\n",
    "if num > 100:\n",
    "    print(\"Big number\")\n",
    "else:\n",
    "    print(\"small number\")\n",
    "    "
   ]
  },
  {
   "cell_type": "code",
   "execution_count": 39,
   "id": "fc2ad438",
   "metadata": {},
   "outputs": [
    {
     "name": "stdout",
     "output_type": "stream",
     "text": [
      "2004 is leap year\n"
     ]
    }
   ],
   "source": [
    "#15. Ask the user for a year. If the year is divisible by 4,\n",
    "#  print \"Leap Year\", else print \"Not a LeapYear\".\n",
    "\n",
    "year = int(input(\"Enter a year\"))\n",
    "\n",
    "\n",
    "if year % 4 == 0:\n",
    "    print(year,\"is leap year\")\n",
    "else:\n",
    "    print(\"Not a leap year\")\n",
    "    "
   ]
  },
  {
   "cell_type": "code",
   "execution_count": 40,
   "id": "b279a696",
   "metadata": {},
   "outputs": [
    {
     "name": "stdout",
     "output_type": "stream",
     "text": [
      "mango is king of fruits\n"
     ]
    }
   ],
   "source": [
    "#16. Get the name of a fruit from the user. If it's \"Mango\", print \"King of Fruits\".\n",
    "\n",
    "fruit = input(\"Enter any fruit name:\")\n",
    "\n",
    "if fruit.lower() == 'mango':\n",
    "    print(fruit,\"is king of fruits\")"
   ]
  },
  {
   "cell_type": "code",
   "execution_count": null,
   "id": "55c05b41",
   "metadata": {},
   "outputs": [
    {
     "name": "stdout",
     "output_type": "stream",
     "text": [
      "welcome Admin\n"
     ]
    }
   ],
   "source": [
    "#17. Take a username as input. If it matches \"admin\",\n",
    "#  print \"Welcome Admin\", else print \"Unknown User\".\n",
    "\n",
    "user = input(\"Enter a user name :\")\n",
    "\n",
    "# admin = \"praveen\"\n",
    "\n",
    "# if user == admin:\n",
    "#     print(\"welcome Admin\")\n",
    "# else:\n",
    "#     print(\"unknown user\")\n",
    "\n",
    "if user.lower() == \"admin\":\n",
    "    print(\"welcome admin\")\n",
    "else:\n",
    "    print(\"unknown user\")"
   ]
  },
  {
   "cell_type": "code",
   "execution_count": 44,
   "id": "b1d854ca",
   "metadata": {},
   "outputs": [
    {
     "name": "stdout",
     "output_type": "stream",
     "text": [
      "12 is lesser than 14\n"
     ]
    }
   ],
   "source": [
    "# 18. Ask the user for two numbers. If the first is greater than the second, print \"First is bigger\".\n",
    "\n",
    "num1 = int(input(\"Enter a Number\"))\n",
    "num2 = int(input(\"enter a number\"))\n",
    "\n",
    "\n",
    "if num1 > num2:\n",
    "    print(num1,\"is bigger than\",num2)\n",
    "else:\n",
    "    print(num1,\"is lesser than\",num2)"
   ]
  },
  {
   "cell_type": "code",
   "execution_count": 46,
   "id": "510031ae",
   "metadata": {},
   "outputs": [
    {
     "name": "stdout",
     "output_type": "stream",
     "text": [
      "welcome access granted\n"
     ]
    }
   ],
   "source": [
    "#19. Input a password. If it is \"1234\", print \"Access Granted\", else print \"Access Denied\".\n",
    "\n",
    "password = input(\"Enter your password \")\n",
    "\n",
    "if password == \"1234\":\n",
    "    print(\"welcome access granted\")\n",
    "else:\n",
    "    print(\"Access denied\")\n"
   ]
  },
  {
   "cell_type": "code",
   "execution_count": null,
   "id": "08b7ee29",
   "metadata": {},
   "outputs": [
    {
     "name": "stdout",
     "output_type": "stream",
     "text": [
      "Holiday\n"
     ]
    }
   ],
   "source": [
    "#20. Get the name of a day from the user. If it's \"Sunday\", print \"Holiday\", else print \"Working Day\".\n",
    "\n",
    "day = input(\"Enter name of a day\")\n",
    "\n",
    "if day.lower() == \"sunday\":\n",
    "    print(\"Holiday\")\n",
    "else:\n",
    "    print(\"working day\")\n",
    "    "
   ]
  },
  {
   "cell_type": "code",
   "execution_count": 48,
   "id": "cc5c5e45",
   "metadata": {},
   "outputs": [
    {
     "name": "stdout",
     "output_type": "stream",
     "text": [
      "Zero\n"
     ]
    }
   ],
   "source": [
    "#21. Ask the user to enter a number. Print \"Zero\" if it is zero, else print \"Non-Zero\".\n",
    "\n",
    "number = int(input(\"enter any number\"))\n",
    "\n",
    "if number == 0:\n",
    "    print(\"Zero\")\n",
    "else:\n",
    "    print(\"Non-zero\")"
   ]
  },
  {
   "cell_type": "code",
   "execution_count": null,
   "id": "39361e21",
   "metadata": {},
   "outputs": [
    {
     "name": "stdout",
     "output_type": "stream",
     "text": [
      "Tall\n"
     ]
    }
   ],
   "source": [
    "# 22. Input the user's height. If it's less than 150, print \"Short\", else print \"Tall\".\n",
    "\n",
    "height = int(input(\"Enter your height in inch\"))\n",
    "\n",
    "if height < 150:\n",
    "    print(\"Short\")\n",
    "else:\n",
    "    print(\"Tall\")"
   ]
  },
  {
   "cell_type": "code",
   "execution_count": 50,
   "id": "db7c6c01",
   "metadata": {},
   "outputs": [
    {
     "name": "stdout",
     "output_type": "stream",
     "text": [
      "Passed with Distinction\n"
     ]
    }
   ],
   "source": [
    "#23. Ask the user to enter their percentage. Print \"Passed with Distinction\" if it's above 85.\n",
    "\n",
    "percent = int(input(\"enter your persentage \"))\n",
    "\n",
    "if percent > 85 :\n",
    "    print(\"Passed with Distinction\")\n",
    "elif percent > 50:\n",
    "    print(\"Passed with First class\")\n",
    "else:\n",
    "    print(\"Fail\")"
   ]
  },
  {
   "cell_type": "code",
   "execution_count": 51,
   "id": "51b68ca2",
   "metadata": {},
   "outputs": [
    {
     "name": "stdout",
     "output_type": "stream",
     "text": [
      "Expensive\n"
     ]
    }
   ],
   "source": [
    "# 24. Input the price of an item. If price is above 1000, print \"Expensive\", else print \"Affordable\".\n",
    "\n",
    "price = int(input(\"Enter price of an item\"))\n",
    "\n",
    "if price > 1000 : \n",
    "    print(\"Expensive\")\n",
    "else:\n",
    "    print(\"Affordable\")\n"
   ]
  },
  {
   "cell_type": "code",
   "execution_count": null,
   "id": "2e1731c3",
   "metadata": {},
   "outputs": [
    {
     "name": "stdout",
     "output_type": "stream",
     "text": [
      "Nice, but not Red\n"
     ]
    }
   ],
   "source": [
    "# 25. Ask for the user's favorite color. If it's not \"Red\", print \"Nice, but not Red\".\n",
    "\n",
    "color = input(\"enter your favorite color\")\n",
    "\n",
    "if color.lower() != \"red\":\n",
    "    print(\"Nice, but not Red\")"
   ]
  },
  {
   "cell_type": "code",
   "execution_count": null,
   "id": "e7c498a0",
   "metadata": {},
   "outputs": [],
   "source": []
  }
 ],
 "metadata": {
  "kernelspec": {
   "display_name": "my_ai_env",
   "language": "python",
   "name": "python3"
  },
  "language_info": {
   "codemirror_mode": {
    "name": "ipython",
    "version": 3
   },
   "file_extension": ".py",
   "mimetype": "text/x-python",
   "name": "python",
   "nbconvert_exporter": "python",
   "pygments_lexer": "ipython3",
   "version": "3.13.1"
  }
 },
 "nbformat": 4,
 "nbformat_minor": 5
}
