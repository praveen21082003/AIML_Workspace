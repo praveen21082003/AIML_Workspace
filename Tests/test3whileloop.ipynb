{
 "cells": [
  {
   "cell_type": "code",
   "execution_count": 26,
   "id": "5f41d603",
   "metadata": {},
   "outputs": [
    {
     "name": "stdout",
     "output_type": "stream",
     "text": [
      "stopped\n"
     ]
    }
   ],
   "source": [
    "# 1. Keep asking for a number until the user enters 0. Then print \"Stopped\".\n",
    "# Sample Input:\n",
    "# 5\n",
    "# 10\n",
    "# 0\n",
    "# Output:\n",
    "# Enter a number: 5\n",
    "# Enter a number: 10\n",
    "# Enter a number: 0\n",
    "# Stopped.\n",
    "\n",
    "\n",
    "while True:\n",
    "    num = int(input(\"Enter a number :\"))\n",
    "    if num == 0 :\n",
    "        print(\"stopped\")\n",
    "        break\n",
    "        "
   ]
  },
  {
   "cell_type": "code",
   "execution_count": 4,
   "id": "1182d0c9",
   "metadata": {},
   "outputs": [
    {
     "name": "stdout",
     "output_type": "stream",
     "text": [
      "Hello praveen\n",
      "Hello Anjali\n",
      "Hello vamshi\n",
      "Hello prajwal\n"
     ]
    }
   ],
   "source": [
    "# 2. Ask the user for names in a loop, skip empty names using continue, stop if name is \"end\".\n",
    "# Sample Input:\n",
    "# Alice\n",
    "# [ENTER]\n",
    "# Bob\n",
    "# end\n",
    "# Output:\n",
    "# Hello Alice\n",
    "# Hello Bob\n",
    "\n",
    "while True:\n",
    "    name = input(\"Enter a name :\")\n",
    "    if name == \"\":\n",
    "        continue\n",
    "    elif name == \"end\":\n",
    "        break\n",
    "    else:\n",
    "        print(f\"Hello {name}\")"
   ]
  },
  {
   "cell_type": "code",
   "execution_count": null,
   "id": "f78e89d3",
   "metadata": {},
   "outputs": [
    {
     "name": "stdout",
     "output_type": "stream",
     "text": [
      "1\n",
      "2\n",
      "3\n",
      "4\n",
      "5\n",
      "6\n",
      "7\n",
      "8\n",
      "9\n",
      "10\n"
     ]
    }
   ],
   "source": [
    "# 3. Print numbers 1 to 10 using a while loop. Use pass when the number is 5.\n",
    "# Output:\n",
    "# 1\n",
    "# 2\n",
    "# 3\n",
    "# 4\n",
    "# 5\n",
    "# 6\n",
    "# 7\n",
    "# 8\n",
    "# 9\n",
    "# 10\n",
    "\n",
    "\n",
    "'''number = 0\n",
    "while number <= 10:\n",
    "    number += 1\n",
    "    if number == 5:\n",
    "        continue\n",
    "    print(number)'''\n",
    "\n",
    "for number in range(1,11):\n",
    "    if number == 5:\n",
    "        pass\n",
    "\n",
    "    print(number)\n",
    "\n",
    "\n",
    "\n",
    "\n",
    "\n",
    "        \n",
    "    "
   ]
  },
  {
   "cell_type": "code",
   "execution_count": null,
   "id": "90663187",
   "metadata": {},
   "outputs": [],
   "source": [
    "# actually pass is used to keep structure for using it for later ,\n",
    "# if even code present under pass it will excute \n",
    "\n",
    "# for example i have write just for loop statement , After creating that i want to use that later .\n",
    "# for i in range(1,10):\n",
    "# i want to use that for loop later if i leave that loop like that only it get error     ^\n",
    "#_IncompleteInputError: incomplete input   , so , if pass is given there it works fine.\n",
    "\n",
    "\n",
    "for i in range(1,7):\n",
    "    pass                # example for pass\n",
    "\n"
   ]
  },
  {
   "cell_type": "code",
   "execution_count": 39,
   "id": "08c08c09",
   "metadata": {},
   "outputs": [
    {
     "name": "stdout",
     "output_type": "stream",
     "text": [
      "Wrong password👎 Your attempts left: 2\n",
      "Wrong password👎 Your attempts left: 1\n",
      "Access Granted!  Welcome\n"
     ]
    }
   ],
   "source": [
    "# 4. Keep asking for a password until the user enters \"admin123\".\n",
    "# Sample Input:\n",
    "# 1234\n",
    "# hello\n",
    "# admin123\n",
    "# Output:\n",
    "# Enter password: 1234\n",
    "# Wrong password.\n",
    "# Enter password: hello\n",
    "# Wrong password.\n",
    "# Enter password: admin123\n",
    "# Access granted.\n",
    "\n",
    "for attempt in range(1,4):\n",
    "    password = input(\"Enter a password :\")\n",
    "    if password == \"admin123\":\n",
    "        print(\"Access Granted!  Welcome\")\n",
    "        break\n",
    "    else:\n",
    "        print(\"Wrong password👎 Your attempts left:\",3-attempt)\n",
    "else:\n",
    "    print(\"3 !..Attempts exceeded😟\\nTry again later!...\")\n",
    "\n",
    "\n",
    "# '''while True:\n",
    "#     password = input(\"Enter your password :\")\n",
    "#     if password == \"admin123\":\n",
    "#         print(\"Access granted ! Welcome\")\n",
    "#         break\n",
    "#     else:\n",
    "#         print(\"wrong password !...\")'''\n",
    "\n",
    "     "
   ]
  },
  {
   "cell_type": "code",
   "execution_count": 12,
   "id": "9bb14d80",
   "metadata": {},
   "outputs": [
    {
     "name": "stdout",
     "output_type": "stream",
     "text": [
      "You entered: 5\n",
      "You entered: 8\n",
      "Stopped\n"
     ]
    }
   ],
   "source": [
    "# 5. Ask for a number and skip printing if it's negative (use continue).\n",
    "# Sample Input:\n",
    "# 5\n",
    "# -2\n",
    "# 8\n",
    "# 0\n",
    "# Output:\n",
    "# You entered: 5\n",
    "# You entered: 8\n",
    "# Stopped.\n",
    "\n",
    "while True:\n",
    "    num = int(input(\"enter a number:\"))\n",
    "    if num < 0:\n",
    "        continue\n",
    "    elif num == 0:\n",
    "        print(\"Stopped\")\n",
    "        break\n",
    "    print(f\"You entered: {num}\")\n"
   ]
  },
  {
   "cell_type": "code",
   "execution_count": 22,
   "id": "42b50c0b",
   "metadata": {},
   "outputs": [
    {
     "name": "stdout",
     "output_type": "stream",
     "text": [
      "2  4  6  8  10  12  14  16  18  20  "
     ]
    }
   ],
   "source": [
    "# 6. Print all even numbers from 2 to 20 using while.\n",
    "# Output:\n",
    "# 2 4 6 8 10 12 14 16 18 \n",
    "\n",
    "'''number = 2\n",
    "while number <= 20:\n",
    "    if number % 2 == 0:\n",
    "        print(number,end=\" \")\n",
    "    number += 1\n",
    "\n",
    "\n",
    "\n",
    "\n",
    "print()\n",
    "\n",
    "\n",
    "\n",
    "num = 2\n",
    "while num <= 20:\n",
    "    print(num,end=\" \")\n",
    "    num += 2'''\n",
    "\n",
    "for num in range(2,21):\n",
    "    if num % 2 == 0:\n",
    "        print(num, end=\"  \")"
   ]
  },
  {
   "cell_type": "code",
   "execution_count": 20,
   "id": "513c4536",
   "metadata": {},
   "outputs": [
    {
     "name": "stdout",
     "output_type": "stream",
     "text": [
      "Word accepted: apple\n",
      "Word accepted: banana\n",
      "Too long! Ending\n"
     ]
    }
   ],
   "source": [
    "\n",
    "# 7. Ask for words until user types a word with more than 10 characters.\n",
    "# Sample Input:\n",
    "# apple\n",
    "# banana\n",
    "# extraordinary\n",
    "# Output:\n",
    "# Word accepted: apple\n",
    "# Word accepted: banana\n",
    "# Too long! Ending.\n",
    "\n",
    "\n",
    "while True:\n",
    "    word = input(\"enter a word\")\n",
    "    if len(word) > 10:\n",
    "        print(\"Too long! Ending\")\n",
    "        break\n",
    "    else:\n",
    "        print(f\"Word accepted: {word}\")\n",
    "        \n"
   ]
  },
  {
   "cell_type": "code",
   "execution_count": 24,
   "id": "b99a0b40",
   "metadata": {},
   "outputs": [
    {
     "name": "stdout",
     "output_type": "stream",
     "text": [
      "1\n",
      "2\n",
      "3\n",
      "4\n",
      "5\n",
      "Lift off !\n"
     ]
    }
   ],
   "source": [
    "# 8. Create a countdown from 5 to 1. Use while.\n",
    "# Output:\n",
    "# 5\n",
    "# 4\n",
    "# 3\n",
    "# 2\n",
    "# 1\n",
    "# Liftoff!\n",
    "\n",
    "'''floors = 5\n",
    "while floors >= 1:\n",
    "    print(floors)\n",
    "    floors -= 1\n",
    "else:\n",
    "    print(\"Liftoff !\")'''\n",
    "\n",
    "\n",
    "for floor in range(1,6):\n",
    "    print(floor)\n",
    "print(\"Lift off !\")"
   ]
  },
  {
   "cell_type": "code",
   "execution_count": 25,
   "id": "d937ca7f",
   "metadata": {},
   "outputs": [
    {
     "name": "stdout",
     "output_type": "stream",
     "text": [
      "42\n",
      "77\n",
      "Non-digit detected \n",
      " Exiting!...\n"
     ]
    }
   ],
   "source": [
    "# 9. Keep asking the user to enter only digits. Break if any non-digit is given.\n",
    "# Sample Input:\n",
    "# 42\n",
    "# 77\n",
    "# hello\n",
    "# Output:\n",
    "# Number entered: 42\n",
    "# Number entered: 77\n",
    "# Non-digit detected. Exiting.\n",
    "\n",
    "while True:\n",
    "    digit = input(\"Entet only digits :\")\n",
    "    if not digit.isdigit():\n",
    "        print(\"Non-digit detected \\n Exiting!...\")\n",
    "        break\n",
    "    else:\n",
    "        print(digit)"
   ]
  },
  {
   "cell_type": "code",
   "execution_count": null,
   "id": "170f98aa",
   "metadata": {},
   "outputs": [
    {
     "name": "stdout",
     "output_type": "stream",
     "text": [
      "Accepted grade: 90\n",
      "Invalid grade. Skipped.\n",
      "Invalid grade. Skipped.\n",
      "Accepted grade: 70\n",
      "Done.\n"
     ]
    }
   ],
   "source": [
    "# 10. Ask for grades and skip if the grade is not between 0 and 100. Stop when -1 is entered.\n",
    "# Sample Input:\n",
    "# 90\n",
    "# 105\n",
    "# -5\n",
    "# 70\n",
    "# -1\n",
    "# Output:\n",
    "# Accepted grade: 90\n",
    "# Invalid grade. Skipped.\n",
    "# Invalid grade. Skipped.\n",
    "# Accepted grade: 70\n",
    "# Done.\n",
    "\n",
    "while True:\n",
    "    grade = int(input(\"Enter a Grade:\"))\n",
    "    if 0 <= grade <= 100 :\n",
    "        print(f\"Accepted grade: {grade}\")\n",
    "    elif grade == -1:\n",
    "        print(\"Done.\")\n",
    "        break\n",
    "    else:\n",
    "        print(\"Invalid grade. Skipped.\")\n",
    "        continue\n",
    "\n"
   ]
  },
  {
   "cell_type": "code",
   "execution_count": 29,
   "id": "0baa181d",
   "metadata": {},
   "outputs": [
    {
     "name": "stdout",
     "output_type": "stream",
     "text": [
      "1. Print Hello\n",
      "2. Exit\n",
      "Choice: 1\n",
      "Hello\n",
      "1. Print Hello\n",
      "2. Exit\n",
      "Choice: 2\n",
      "Goodbye!\n"
     ]
    }
   ],
   "source": [
    "# 11. Use while True to simulate a simple menu: 1. Print Hello, 2. Exit\n",
    "# Sample Input:\n",
    "# 1\n",
    "# 2\n",
    "# Output:\n",
    "# 1. Print Hello\n",
    "# 2. Exit\n",
    "# Choice: 1\n",
    "# Hello\n",
    "# 1. Print Hello\n",
    "# 2. Exit\n",
    "# Choice: 2\n",
    "# Goodbye!\n",
    "\n",
    "\n",
    "while True:\n",
    "    print(\"1. Print Hello\")\n",
    "    print(\"2. Exit\")\n",
    "    choice = int(input(\"Enter Your choice :\"))\n",
    "\n",
    "\n",
    "    if choice == 1 :\n",
    "        print(f\"Choice: {choice}\")\n",
    "        print(\"Hello\")\n",
    "        continue\n",
    "    elif choice == 2 :\n",
    "        print(f\"Choice: {choice}\")\n",
    "        print(\"Goodbye!\")\n",
    "        break\n"
   ]
  },
  {
   "cell_type": "code",
   "execution_count": 28,
   "id": "192433da",
   "metadata": {},
   "outputs": [
    {
     "name": "stdout",
     "output_type": "stream",
     "text": [
      "1\n",
      "3\n",
      "5\n",
      "7\n",
      "9\n",
      "11\n",
      "13\n",
      "15\n"
     ]
    }
   ],
   "source": [
    "# 12. Print only odd numbers from 1 to 15 using a while loop and continue.\n",
    "# Output:\n",
    "# 1 3 5 7 9 11 13 15\n",
    "\n",
    "\n",
    "\n",
    "'''num = 0\n",
    "\n",
    "while num <= 15:\n",
    "    \n",
    "    num += 1\n",
    "    if num % 2 == 0:\n",
    "        continue\n",
    "    print(num,end=\" \")'''\n",
    "\n",
    "# num1 = 1\n",
    "# while True:\n",
    "\n",
    "#     num1 += 2\n",
    "#     if num1 > 15:\n",
    "#         break\n",
    "#     elif num1:\n",
    "#         print(num1)\n",
    "#         continue\n",
    "    \n",
    "# num = 0\n",
    "# while num <= 15:\n",
    "#     num += 1\n",
    "#     if num % 2 == 0:\n",
    "#         continue\n",
    "    \n",
    "#     print(num,end=\" \")\n",
    "    \n",
    "\n",
    "for odds in range(1,16):\n",
    "    if odds % 2 == 0:\n",
    "        continue\n",
    "    print(odds)"
   ]
  },
  {
   "cell_type": "code",
   "execution_count": null,
   "id": "d8dd76a6",
   "metadata": {},
   "outputs": [
    {
     "name": "stdout",
     "output_type": "stream",
     "text": [
      "Invalid name. Skipped\n"
     ]
    }
   ],
   "source": [
    "# # 13. Ask for names, and if name contains digits, reject and continue.\n",
    "# # Sample Input:\n",
    "# # John\n",
    "# # An4a\n",
    "# # Sam\n",
    "# # Output:\n",
    "# # Valid name: John\n",
    "# # Invalid name. Skipped.\n",
    "# # Valid name: Sam\n",
    "\n",
    "while True:\n",
    "    name = input(\"Enter a name :\")\n",
    "    # if name == \"exit\":\n",
    "    #     break\n",
    "    if name.isalpha():\n",
    "        print(\"valid name\",name)\n",
    "    else:\n",
    "        print(\"Invalid name. Skipped\")\n",
    "        \n",
    "    \n",
    "    \n",
    "\n",
    "\n"
   ]
  },
  {
   "cell_type": "code",
   "execution_count": 47,
   "id": "e67e0e1a",
   "metadata": {},
   "outputs": [
    {
     "name": "stdout",
     "output_type": "stream",
     "text": [
      "Wrong guess👎. Try again..!\n",
      "Your Ettempts left : 4\n",
      "Wrong guess👎. Try again..!\n",
      "Your Ettempts left : 3\n",
      "You Won🎉..🏆\n",
      "correct Guess !...😀\n"
     ]
    }
   ],
   "source": [
    "# 14. Ask the user to guess a number (secret is 7). Keep looping until correct.\n",
    "# Sample Input:\n",
    "# 3\n",
    "# 6\n",
    "# 7\n",
    "# Output:\n",
    "# Wrong guess. Try again.\n",
    "# Wrong guess. Try again.\n",
    "# Correct!\n",
    "\n",
    "\n",
    "for attempt in range(1,6):\n",
    "    numbers = int(input(\"Guess a number:\"))\n",
    "    if numbers == 7:\n",
    "        print(\"You Won🎉..🏆\\ncorrect Guess !...😀\")\n",
    "        break\n",
    "    else:\n",
    "        print(\"Wrong guess👎. Try again..!\\nYour Ettempts left :\",5-attempt)\n",
    "else:\n",
    "    print(\"Sorry You Loose the Game 😟.....\")\n",
    "\n",
    "# while True:\n",
    "#     num = int(input(\"Guess a number:\"))\n",
    "#     if num == 7:\n",
    "#         print(\"correct!\")\n",
    "#         break\n",
    "#     else:\n",
    "#         print(\"wrong guess. Try again\")\n"
   ]
  },
  {
   "cell_type": "code",
   "execution_count": 29,
   "id": "84ecc6a6",
   "metadata": {},
   "outputs": [
    {
     "name": "stdout",
     "output_type": "stream",
     "text": [
      "*\n",
      "*\n",
      "*\n",
      "*\n",
      "*\n"
     ]
    }
   ],
   "source": [
    "# 15. Use a while loop to print a pattern of stars (*) up to 5 lines.\n",
    "# Output:\n",
    "# *\n",
    "# *\n",
    "# *\n",
    "# *\n",
    "# *\n",
    "\n",
    "\n",
    "for star in range(5):\n",
    "    print(\"*\")"
   ]
  },
  {
   "cell_type": "code",
   "execution_count": null,
   "id": "c7661ad0",
   "metadata": {},
   "outputs": [
    {
     "data": {
      "text/plain": [
       "False"
      ]
     },
     "execution_count": 50,
     "metadata": {},
     "output_type": "execute_result"
    }
   ],
   "source": [
    "mess = \"praveen ku    a23r\"\n",
    "\"\".join(mess .split()).isalpha()"
   ]
  },
  {
   "cell_type": "code",
   "execution_count": 9,
   "id": "d0b4d97c",
   "metadata": {},
   "outputs": [
    {
     "name": "stdout",
     "output_type": "stream",
     "text": [
      "✔️ Message Received : hello every one \n",
      "✔️ Message Received : hello every one \n",
      "✔️ Message Received : hello every one \n",
      "✔️ Message Received : hello every one \n",
      "✔️ Message Received : hello every one \n",
      "✔️ Message Received : hello every one \n",
      "✔️ Message Received : hello every one \n",
      "✔️ Message Received : hello every one \n",
      "✔️ Message Received : hello every one \n",
      "✔️ Message Received : hello every one \n",
      "✔️ Message Received : hello every one \n",
      "✔️ Message Received : hello every one \n",
      "✔️ Message Received : hello every one \n",
      "✔️ Message Received : hello every one \n",
      "✔️ Message Received : hello every one \n",
      "✔️ Message Received : hello every one \n",
      "🔚Quiting🕝......\n"
     ]
    }
   ],
   "source": [
    "while True :\n",
    "    message = input(\"Message resived..!\")\n",
    "\n",
    "    if message.strip() == \"\":\n",
    "        continue\n",
    "    elif message.lower().strip().startswith(\"help\") or message.lower().strip().startswith(\"emergency\"):\n",
    "        print(f\"⚠️ Attention Needed: {message}\")\n",
    "    \n",
    "    elif message.lower().strip() == \"quit\":\n",
    "        print(\"🔚Quiting🕝......\")\n",
    "        break\n",
    "    elif  message:\n",
    "        for chars in message:\n",
    "            if chars.isdigit():\n",
    "                print(\"🚫Blocked : Message contains numbers. Stopping moderation......\")\n",
    "                break\n",
    "            else:\n",
    "                print(f\"✔️ Message Received : {message}\")\n",
    "                continue\n",
    "\n",
    "\n"
   ]
  },
  {
   "cell_type": "code",
   "execution_count": 10,
   "id": "3af83148",
   "metadata": {},
   "outputs": [
    {
     "name": "stdout",
     "output_type": "stream",
     "text": [
      "blocked\n"
     ]
    }
   ],
   "source": [
    "text = \"this message contins @#$\"\n",
    "if not \"\".join(text.split()).isalpha():\n",
    "    print(\"blocked\")\n",
    "else:\n",
    "    print(text)"
   ]
  },
  {
   "cell_type": "code",
   "execution_count": 6,
   "id": "96cbf7bc",
   "metadata": {},
   "outputs": [
    {
     "data": {
      "text/plain": [
       "False"
      ]
     },
     "execution_count": 6,
     "metadata": {},
     "output_type": "execute_result"
    }
   ],
   "source": [
    "text.isalpha()"
   ]
  }
 ],
 "metadata": {
  "kernelspec": {
   "display_name": "my_ai_env",
   "language": "python",
   "name": "python3"
  },
  "language_info": {
   "codemirror_mode": {
    "name": "ipython",
    "version": 3
   },
   "file_extension": ".py",
   "mimetype": "text/x-python",
   "name": "python",
   "nbconvert_exporter": "python",
   "pygments_lexer": "ipython3",
   "version": "3.13.1"
  }
 },
 "nbformat": 4,
 "nbformat_minor": 5
}
