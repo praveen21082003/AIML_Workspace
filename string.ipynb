{
 "cells": [
  {
   "cell_type": "code",
   "execution_count": null,
   "id": "2b2e1028",
   "metadata": {},
   "outputs": [
    {
     "name": "stdout",
     "output_type": "stream",
     "text": [
      "a\n",
      "kumar\n",
      "HelloPraveen kumar\n",
      "PRAVEEN KUMAR\n"
     ]
    },
    {
     "ename": "TypeError",
     "evalue": "'str' object does not support item assignment",
     "output_type": "error",
     "traceback": [
      "\u001b[31m---------------------------------------------------------------------------\u001b[39m",
      "\u001b[31mTypeError\u001b[39m                                 Traceback (most recent call last)",
      "\u001b[36mCell\u001b[39m\u001b[36m \u001b[39m\u001b[32mIn[1]\u001b[39m\u001b[32m, line 15\u001b[39m\n\u001b[32m     13\u001b[39m \u001b[38;5;28mprint\u001b[39m(msg+name)\n\u001b[32m     14\u001b[39m \u001b[38;5;28mprint\u001b[39m(name.upper())\n\u001b[32m---> \u001b[39m\u001b[32m15\u001b[39m \u001b[43mname\u001b[49m\u001b[43m[\u001b[49m\u001b[32;43m0\u001b[39;49m\u001b[43m]\u001b[49m = \u001b[33m\"\u001b[39m\u001b[33my\u001b[39m\u001b[33m\"\u001b[39m \u001b[38;5;66;03m# this will throw an error because strings are immutable in python\u001b[39;00m\n",
      "\u001b[31mTypeError\u001b[39m: 'str' object does not support item assignment"
     ]
    }
   ],
   "source": [
    "# string\n",
    "#___________\n",
    "# Sequence of unicode characters.\n",
    "# Immutable\n",
    "# supports indexing, slicing, concatenation, and many buit in functions\n",
    "\n",
    "name = \"Praveen kumar\"\n",
    "msg = 'Hello'\n",
    "x = \"6\"\n",
    "\n",
    "print(name[2])\n",
    "print(name[8:13])\n",
    "print(msg+name)\n",
    "print(name.upper())\n",
    "# name[0] = \"y\" # this will throw an error because strings are immutable in python"
   ]
  }
 ],
 "metadata": {
  "kernelspec": {
   "display_name": "my_ai_env",
   "language": "python",
   "name": "python3"
  },
  "language_info": {
   "codemirror_mode": {
    "name": "ipython",
    "version": 3
   },
   "file_extension": ".py",
   "mimetype": "text/x-python",
   "name": "python",
   "nbconvert_exporter": "python",
   "pygments_lexer": "ipython3",
   "version": "3.13.1"
  }
 },
 "nbformat": 4,
 "nbformat_minor": 5
}
