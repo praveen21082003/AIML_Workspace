{
 "cells": [
  {
   "cell_type": "code",
   "execution_count": 1,
   "id": "8d52d0f2",
   "metadata": {},
   "outputs": [
    {
     "name": "stdout",
     "output_type": "stream",
     "text": [
      "[1, 3, 'praveen', 'jhon', 'praveen', 6]\n"
     ]
    }
   ],
   "source": [
    "# List\n",
    "#___________\n",
    "# contains Sequence of elements.\n",
    "# can store mixied datatypes\n",
    "# it is mutable,ordered,allows duplicate values\n",
    "# Common operations: append, insert, pop, slice.\n",
    "\n",
    "l = [1,3,'praveen','jhon','praveen']\n",
    "\n",
    "# append append(value)\n",
    "l.append(6)\n",
    "print(l)\n"
   ]
  },
  {
   "cell_type": "code",
   "execution_count": 2,
   "id": "c326965f",
   "metadata": {},
   "outputs": [
    {
     "name": "stdout",
     "output_type": "stream",
     "text": [
      "[1, 'praveen', 'jhon', 'praveen', 6]\n"
     ]
    }
   ],
   "source": [
    "# pop pop(index)\n",
    "l.pop(1)\n",
    "print(l)"
   ]
  },
  {
   "cell_type": "code",
   "execution_count": 11,
   "id": "a2ac3a70",
   "metadata": {},
   "outputs": [
    {
     "name": "stdout",
     "output_type": "stream",
     "text": [
      "[1, 'praveen', 'kumar', 'jhon', 'praveen', 6]\n"
     ]
    }
   ],
   "source": [
    "# insert insert(index, value)\n",
    "l.insert(2,\"kumar\")\n",
    "print(l)"
   ]
  },
  {
   "cell_type": "code",
   "execution_count": 12,
   "id": "ee3902fc",
   "metadata": {},
   "outputs": [
    {
     "name": "stdout",
     "output_type": "stream",
     "text": [
      "[1, 'praveen', 'jhon', 'praveen', 6]\n"
     ]
    }
   ],
   "source": [
    "# remove remove(value)\n",
    "l.remove('kumar')\n",
    "print(l)"
   ]
  },
  {
   "cell_type": "code",
   "execution_count": 13,
   "id": "9ce9b54d",
   "metadata": {},
   "outputs": [
    {
     "data": {
      "text/plain": [
       "1"
      ]
     },
     "execution_count": 13,
     "metadata": {},
     "output_type": "execute_result"
    }
   ],
   "source": [
    "# index index(value)\n",
    "l.index(\"praveen\")"
   ]
  },
  {
   "cell_type": "code",
   "execution_count": 14,
   "id": "ece9c861",
   "metadata": {},
   "outputs": [
    {
     "name": "stdout",
     "output_type": "stream",
     "text": [
      "2\n"
     ]
    }
   ],
   "source": [
    "# count count(value)\n",
    "print(l.count(\"praveen\"))"
   ]
  },
  {
   "cell_type": "code",
   "execution_count": null,
   "id": "22434af4",
   "metadata": {},
   "outputs": [
    {
     "name": "stdout",
     "output_type": "stream",
     "text": [
      "[1, 4, 5, 9, 10]\n",
      "[10, 9, 5, 4, 1]\n"
     ]
    }
   ],
   "source": [
    "# sort sort()\n",
    "l2 = [1,4,10,5,9]\n",
    "l2.sort()\n",
    "print(l2)\n",
    "l2.sort(reverse='False')\n",
    "print(l2)"
   ]
  },
  {
   "cell_type": "code",
   "execution_count": 16,
   "id": "b0eaed17",
   "metadata": {},
   "outputs": [
    {
     "name": "stdout",
     "output_type": "stream",
     "text": [
      "[5, 4, 3, 2, 1]\n"
     ]
    }
   ],
   "source": [
    "# reverse reverse()\n",
    "l3 = [1,2,3,4,5]\n",
    "l3.reverse()\n",
    "print(l3)"
   ]
  },
  {
   "cell_type": "code",
   "execution_count": 17,
   "id": "fc55c745",
   "metadata": {},
   "outputs": [
    {
     "name": "stdout",
     "output_type": "stream",
     "text": [
      "[5, 4, 3, 2, 1]\n"
     ]
    }
   ],
   "source": [
    "# copy copy()\n",
    "l4 = l3.copy()\n",
    "print(l4)"
   ]
  }
 ],
 "metadata": {
  "kernelspec": {
   "display_name": "my_ai_env",
   "language": "python",
   "name": "python3"
  },
  "language_info": {
   "codemirror_mode": {
    "name": "ipython",
    "version": 3
   },
   "file_extension": ".py",
   "mimetype": "text/x-python",
   "name": "python",
   "nbconvert_exporter": "python",
   "pygments_lexer": "ipython3",
   "version": "3.13.1"
  }
 },
 "nbformat": 4,
 "nbformat_minor": 5
}
