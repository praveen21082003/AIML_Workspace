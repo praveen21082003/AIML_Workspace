{
 "cells": [
  {
   "cell_type": "code",
   "execution_count": 1,
   "id": "10337bb6",
   "metadata": {},
   "outputs": [
    {
     "name": "stdout",
     "output_type": "stream",
     "text": [
      "6\n"
     ]
    }
   ],
   "source": [
    "# def <function_name>():\n",
    "# <function_name>() ==>function call\n",
    "\n",
    "\n",
    "def add():\n",
    "    sum = 2 + 4\n",
    "    print(sum)\n",
    "add()"
   ]
  },
  {
   "cell_type": "code",
   "execution_count": null,
   "id": "585e4e6e",
   "metadata": {},
   "outputs": [
    {
     "name": "stdout",
     "output_type": "stream",
     "text": [
      "30\n",
      "33\n"
     ]
    }
   ],
   "source": [
    "# Functions are used to reduce the code for reption of task usage\n",
    "\n",
    "\n",
    "# This are called parameters collects arguments passed during function call\n",
    "#        ^\n",
    "def add(a,b):\n",
    "    sum = a + b\n",
    "    print(sum)\n",
    "\n",
    "add(10,20)  # ==> This is call passing arguments to function\n",
    "\n",
    "add(13,20)\n"
   ]
  },
  {
   "cell_type": "code",
   "execution_count": null,
   "id": "7214112f",
   "metadata": {},
   "outputs": [],
   "source": [
    "# Types of Function\n",
    "\n",
    "# 1. function with out any parameter and argumets\n",
    "# 2. accepting parameters, no return values\n",
    "# 3. accepting parameters,  return values\n",
    "# 4. no accepting parameters, no return values\n",
    "# 5. no accepting parameters, return values"
   ]
  }
 ],
 "metadata": {
  "kernelspec": {
   "display_name": "my_ai_env",
   "language": "python",
   "name": "python3"
  },
  "language_info": {
   "codemirror_mode": {
    "name": "ipython",
    "version": 3
   },
   "file_extension": ".py",
   "mimetype": "text/x-python",
   "name": "python",
   "nbconvert_exporter": "python",
   "pygments_lexer": "ipython3",
   "version": "3.13.1"
  }
 },
 "nbformat": 4,
 "nbformat_minor": 5
}
