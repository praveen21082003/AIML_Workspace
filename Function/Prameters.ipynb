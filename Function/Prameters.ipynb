{
 "cells": [
  {
   "cell_type": "code",
   "execution_count": 1,
   "id": "466413c7",
   "metadata": {},
   "outputs": [
    {
     "name": "stdout",
     "output_type": "stream",
     "text": [
      "praveen\n",
      "23\n"
     ]
    }
   ],
   "source": [
    "\n",
    "# default parameters\n",
    "\n",
    "def person(name,age = 23):\n",
    "    print(name)\n",
    "    print(age)\n",
    "\n",
    "person(name = \"praveen\")"
   ]
  },
  {
   "cell_type": "code",
   "execution_count": 2,
   "id": "41b1c092",
   "metadata": {},
   "outputs": [
    {
     "name": "stdout",
     "output_type": "stream",
     "text": [
      "1\n",
      "(2, 3, 4, 5, 6, 7, 8)\n"
     ]
    }
   ],
   "source": [
    "# taking multiple arguments to single parameter\n",
    "\n",
    "def multi_argument(a,*b):\n",
    "    print(a)\n",
    "    print(b)\n",
    "\n",
    "multi_argument(1,2,3,4,5,6,7,8)\n",
    "\n"
   ]
  }
 ],
 "metadata": {
  "kernelspec": {
   "display_name": "my_ai_env",
   "language": "python",
   "name": "python3"
  },
  "language_info": {
   "codemirror_mode": {
    "name": "ipython",
    "version": 3
   },
   "file_extension": ".py",
   "mimetype": "text/x-python",
   "name": "python",
   "nbconvert_exporter": "python",
   "pygments_lexer": "ipython3",
   "version": "3.13.1"
  }
 },
 "nbformat": 4,
 "nbformat_minor": 5
}
