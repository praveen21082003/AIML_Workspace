{
 "cells": [
  {
   "cell_type": "code",
   "execution_count": null,
   "id": "73b47596",
   "metadata": {},
   "outputs": [
    {
     "name": "stdout",
     "output_type": "stream",
     "text": [
      "praveen\n",
      "23\n"
     ]
    }
   ],
   "source": [
    "# Types of Arguments \n",
    "# 1.default Arguments\n",
    "# 2.Keyword Arguments\n",
    "\n",
    "\n",
    "#1.Default Arguments\n",
    "\n",
    "def person(name,age):\n",
    "    print(name)\n",
    "    print(age)\n",
    "\n",
    "person(\"praveen\",23)"
   ]
  },
  {
   "cell_type": "code",
   "execution_count": null,
   "id": "1c153248",
   "metadata": {},
   "outputs": [
    {
     "name": "stdout",
     "output_type": "stream",
     "text": [
      "praveen\n",
      "23\n"
     ]
    }
   ],
   "source": [
    "# 2.Keyword Arguments\n",
    "\n",
    "def person(name,age):\n",
    "    print(name)\n",
    "    print(age)\n",
    "\n",
    "person(age = 23,name = \"praveen\")"
   ]
  }
 ],
 "metadata": {
  "kernelspec": {
   "display_name": "my_ai_env",
   "language": "python",
   "name": "python3"
  },
  "language_info": {
   "codemirror_mode": {
    "name": "ipython",
    "version": 3
   },
   "file_extension": ".py",
   "mimetype": "text/x-python",
   "name": "python",
   "nbconvert_exporter": "python",
   "pygments_lexer": "ipython3",
   "version": "3.13.1"
  }
 },
 "nbformat": 4,
 "nbformat_minor": 5
}
