{
 "cells": [
  {
   "cell_type": "code",
   "execution_count": 2,
   "id": "636f4837",
   "metadata": {},
   "outputs": [
    {
     "data": {
      "text/plain": [
       "4"
      ]
     },
     "execution_count": 2,
     "metadata": {},
     "output_type": "execute_result"
    }
   ],
   "source": [
    "# 1.  count(x)   ==> used to check the count of given element\n",
    "\n",
    "my_tuple = (\"lion\", \"tiger\",3,3,10,21,\"tiger\",\"elephant\",3,3)\n",
    "\n",
    "my_tuple.count('tiger')\n",
    "my_tuple.count(3)"
   ]
  },
  {
   "cell_type": "code",
   "execution_count": 3,
   "id": "bc987309",
   "metadata": {},
   "outputs": [
    {
     "data": {
      "text/plain": [
       "1"
      ]
     },
     "execution_count": 3,
     "metadata": {},
     "output_type": "execute_result"
    }
   ],
   "source": [
    "# 2. index(x)  ==> used to find the index of element\n",
    "\n",
    "my_tuple.index('tiger')"
   ]
  },
  {
   "cell_type": "code",
   "execution_count": null,
   "id": "07347e91",
   "metadata": {},
   "outputs": [],
   "source": []
  }
 ],
 "metadata": {
  "kernelspec": {
   "display_name": "my_ai_env",
   "language": "python",
   "name": "python3"
  },
  "language_info": {
   "codemirror_mode": {
    "name": "ipython",
    "version": 3
   },
   "file_extension": ".py",
   "mimetype": "text/x-python",
   "name": "python",
   "nbconvert_exporter": "python",
   "pygments_lexer": "ipython3",
   "version": "3.13.1"
  }
 },
 "nbformat": 4,
 "nbformat_minor": 5
}
