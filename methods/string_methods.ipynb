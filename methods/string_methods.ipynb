{
 "cells": [
  {
   "cell_type": "code",
   "execution_count": 2,
   "id": "2d159a38",
   "metadata": {},
   "outputs": [
    {
     "name": "stdout",
     "output_type": "stream",
     "text": [
      "praveen\n"
     ]
    }
   ],
   "source": [
    "# 1.  lower( )   =>  converts entire string to lower case.\n",
    "\n",
    "str = \"PrAvEeN\"\n",
    "print(str.lower())"
   ]
  },
  {
   "cell_type": "code",
   "execution_count": 3,
   "id": "05388542",
   "metadata": {},
   "outputs": [
    {
     "name": "stdout",
     "output_type": "stream",
     "text": [
      "PRAVEEN\n"
     ]
    }
   ],
   "source": [
    "# 2.\tupper( )   =>  converts entire string to upper case.\n",
    "\n",
    "str = \"pRaVeEn\"\n",
    "print(str.upper())"
   ]
  },
  {
   "cell_type": "code",
   "execution_count": null,
   "id": "d602affe",
   "metadata": {},
   "outputs": [
    {
     "name": "stdout",
     "output_type": "stream",
     "text": [
      "Hello Praveen Welcome To String Methods\n"
     ]
    }
   ],
   "source": [
    "#3.\ttitle()       => capitalize the first character or litter of each word in string sentence\n",
    "\n",
    "str = \"Hello praveen welcome to string methods\"\n",
    "print(str.title())"
   ]
  },
  {
   "cell_type": "code",
   "execution_count": null,
   "id": "983c9193",
   "metadata": {},
   "outputs": [
    {
     "name": "stdout",
     "output_type": "stream",
     "text": [
      "Welcome all to string methods class\n"
     ]
    }
   ],
   "source": [
    "# 4.\tcapitalize() => capitalize the first letter only in string\n",
    "\n",
    "str = \"welcome all to string methods class\"\n",
    "print(str.capitalize())"
   ]
  },
  {
   "cell_type": "code",
   "execution_count": 17,
   "id": "0b2a1758",
   "metadata": {},
   "outputs": [
    {
     "name": "stdout",
     "output_type": "stream",
     "text": [
      "22\n",
      "Praveen kumar\n"
     ]
    },
    {
     "data": {
      "text/plain": [
       "13"
      ]
     },
     "execution_count": 17,
     "metadata": {},
     "output_type": "execute_result"
    }
   ],
   "source": [
    "# 5.\tstrip()       => removes white space from the both ends of a word or sentence\n",
    "\n",
    "str = \" Praveen kumar        \"\n",
    "print(len(str))\n",
    "newstr = str.strip()\n",
    "print(newstr)\n",
    "len(newstr)\n"
   ]
  },
  {
   "cell_type": "code",
   "execution_count": 20,
   "id": "439c4f11",
   "metadata": {},
   "outputs": [
    {
     "name": "stdout",
     "output_type": "stream",
     "text": [
      "Praveen kumar        \n"
     ]
    },
    {
     "data": {
      "text/plain": [
       "21"
      ]
     },
     "execution_count": 20,
     "metadata": {},
     "output_type": "execute_result"
    }
   ],
   "source": [
    "# 6.\tlstrip()     =>     removes white space from left side only\n",
    "\n",
    "newstr = str.lstrip()\n",
    "print(newstr)\n",
    "len(newstr)"
   ]
  },
  {
   "cell_type": "code",
   "execution_count": 21,
   "id": "cf63e7e2",
   "metadata": {},
   "outputs": [
    {
     "name": "stdout",
     "output_type": "stream",
     "text": [
      " Praveen kumar\n"
     ]
    },
    {
     "data": {
      "text/plain": [
       "14"
      ]
     },
     "execution_count": 21,
     "metadata": {},
     "output_type": "execute_result"
    }
   ],
   "source": [
    "# 7.   rstrip()            =>     removes white spaces from right side of string\n",
    "\n",
    "newstr = str.rstrip()\n",
    "print(newstr)\n",
    "len(newstr)"
   ]
  },
  {
   "cell_type": "code",
   "execution_count": 24,
   "id": "762f78ca",
   "metadata": {},
   "outputs": [
    {
     "name": "stdout",
     "output_type": "stream",
     "text": [
      "Hello!world\n"
     ]
    }
   ],
   "source": [
    "# 8. replace()            =>  replaces the letter in the substr\n",
    "\n",
    "str = \"Hello world\"\n",
    "\n",
    "print(str.replace(' ','!'))"
   ]
  },
  {
   "cell_type": "code",
   "execution_count": 66,
   "id": "10cc2fcd",
   "metadata": {},
   "outputs": [
    {
     "name": "stdout",
     "output_type": "stream",
     "text": [
      "['praveen', 'kumar']\n"
     ]
    }
   ],
   "source": [
    "# 9. split          =>  divide the string to new strings outputs in list\n",
    "str = \"praveen kumar\"\n",
    "new_str= str.split(\" \")\n",
    "print(new_str)"
   ]
  },
  {
   "cell_type": "code",
   "execution_count": 57,
   "id": "fa0fda85",
   "metadata": {},
   "outputs": [
    {
     "name": "stdout",
     "output_type": "stream",
     "text": [
      "h e l l o   w o r l d\n"
     ]
    }
   ],
   "source": [
    "# 10. join()         => joins the splited string to one string\n",
    "new_str = \"hello world\"\n",
    "print(\" \".join(new_str))"
   ]
  },
  {
   "cell_type": "code",
   "execution_count": 58,
   "id": "e59d4b4f",
   "metadata": {},
   "outputs": [
    {
     "data": {
      "text/plain": [
       "2"
      ]
     },
     "execution_count": 58,
     "metadata": {},
     "output_type": "execute_result"
    }
   ],
   "source": [
    "# 11. find(sub)         => to find the charecter in a string\n",
    "new_str = \"hello world\"\n",
    "new_str.find(\"l\")\n"
   ]
  },
  {
   "cell_type": "code",
   "execution_count": null,
   "id": "7b984555",
   "metadata": {},
   "outputs": [
    {
     "data": {
      "text/plain": [
       "5"
      ]
     },
     "execution_count": 37,
     "metadata": {},
     "output_type": "execute_result"
    }
   ],
   "source": [
    "# 12. index(sub)        => to find the index of a charecter in string\n",
    "new_str.index(\" \")"
   ]
  },
  {
   "cell_type": "code",
   "execution_count": null,
   "id": "dbd6791c",
   "metadata": {},
   "outputs": [],
   "source": []
  },
  {
   "cell_type": "code",
   "execution_count": 41,
   "id": "13da4804",
   "metadata": {},
   "outputs": [
    {
     "data": {
      "text/plain": [
       "True"
      ]
     },
     "execution_count": 41,
     "metadata": {},
     "output_type": "execute_result"
    }
   ],
   "source": [
    "\n",
    "# 13. startwith(sub)\n",
    "new_str.startswith(\"he\")"
   ]
  },
  {
   "cell_type": "code",
   "execution_count": 42,
   "id": "0eea2314",
   "metadata": {},
   "outputs": [
    {
     "data": {
      "text/plain": [
       "False"
      ]
     },
     "execution_count": 42,
     "metadata": {},
     "output_type": "execute_result"
    }
   ],
   "source": [
    "# 14. endswith(sub)\n",
    "new_str.endswith(\"l\")"
   ]
  },
  {
   "cell_type": "code",
   "execution_count": null,
   "id": "4f989a64",
   "metadata": {},
   "outputs": [
    {
     "ename": "NameError",
     "evalue": "name 'new_str' is not defined",
     "output_type": "error",
     "traceback": [
      "\u001b[31m---------------------------------------------------------------------------\u001b[39m",
      "\u001b[31mNameError\u001b[39m                                 Traceback (most recent call last)",
      "\u001b[36mCell\u001b[39m\u001b[36m \u001b[39m\u001b[32mIn[2]\u001b[39m\u001b[32m, line 3\u001b[39m\n\u001b[32m      1\u001b[39m \u001b[38;5;66;03m# 15. isdigit()\u001b[39;00m\n\u001b[32m----> \u001b[39m\u001b[32m3\u001b[39m \u001b[38;5;28mprint\u001b[39m(\u001b[43mnew_str\u001b[49m.isdigit())\n\u001b[32m      4\u001b[39m \u001b[38;5;66;03m#  isalpha()\u001b[39;00m\n\u001b[32m      5\u001b[39m \u001b[38;5;28mprint\u001b[39m(new_str.isalpha())\n",
      "\u001b[31mNameError\u001b[39m: name 'new_str' is not defined"
     ]
    }
   ],
   "source": [
    "# 15. isdigit()\n",
    "\n",
    "print(new_str.isdigit())\n",
    "#  isalpha()\n",
    "print(new_str.isalpha())\n",
    "str = \"praveen\"\n",
    "print(str.isalpha())\n",
    "\n",
    "#  isalnum()\n",
    "print(\"123abd\".isalnum())\n",
    "\n",
    "# count(sub)\n",
    "new_str.count('l')\n",
    "\n"
   ]
  },
  {
   "cell_type": "code",
   "execution_count": 7,
   "id": "1e61493b",
   "metadata": {},
   "outputs": [
    {
     "data": {
      "text/plain": [
       "True"
      ]
     },
     "execution_count": 7,
     "metadata": {},
     "output_type": "execute_result"
    }
   ],
   "source": [
    "# isupper()\n",
    "\"Apple\".isupper()\n",
    "\"A\".isupper()"
   ]
  },
  {
   "cell_type": "code",
   "execution_count": 67,
   "id": "85094646",
   "metadata": {},
   "outputs": [
    {
     "name": "stdout",
     "output_type": "stream",
     "text": [
      "hello world welcome to ai.\n"
     ]
    }
   ],
   "source": [
    "# lower(), strip(), replace() ==> text processing \n",
    "# split(), join()             ==> tokenization\n",
    "# isalnum(), isalpha()        ==> data validation\n",
    "\n",
    "\n",
    "text = \"  Hello WORLD! Welcome to AI.  \"\n",
    "clean_text = text.strip().lower().replace(\"!\", \"\")\n",
    "print(clean_text)"
   ]
  },
  {
   "cell_type": "code",
   "execution_count": 68,
   "id": "8cbde309",
   "metadata": {},
   "outputs": [
    {
     "name": "stdout",
     "output_type": "stream",
     "text": [
      "['Hello', 'welcome', 'to', 'ai', 'workspace']\n"
     ]
    }
   ],
   "source": [
    "sentence = \"Hello welcome to ai workspace\"\n",
    "new = sentence.split()\n",
    "print(new)\n"
   ]
  },
  {
   "cell_type": "code",
   "execution_count": 69,
   "id": "7f9133da",
   "metadata": {},
   "outputs": [
    {
     "name": "stdout",
     "output_type": "stream",
     "text": [
      "Hello welcome to ai workspace\n"
     ]
    }
   ],
   "source": [
    "joining = \" \".join(new)\n",
    "print(joining)"
   ]
  },
  {
   "cell_type": "code",
   "execution_count": 75,
   "id": "d8ba2263",
   "metadata": {},
   "outputs": [
    {
     "data": {
      "text/plain": [
       "'Hello Welcome To AIML Workspace'"
      ]
     },
     "execution_count": 75,
     "metadata": {},
     "output_type": "execute_result"
    }
   ],
   "source": [
    "edit = \" \".join(new).title().replace(\"Ai\",\"AIML\")\n",
    "edit"
   ]
  },
  {
   "cell_type": "code",
   "execution_count": 79,
   "id": "913c180e",
   "metadata": {},
   "outputs": [
    {
     "name": "stdout",
     "output_type": "stream",
     "text": [
      "['Praveen', 'chennai']\n"
     ]
    },
    {
     "data": {
      "text/plain": [
       "'Praveenchennai'"
      ]
     },
     "execution_count": 79,
     "metadata": {},
     "output_type": "execute_result"
    }
   ],
   "source": [
    "list = [\"Praveen\",\"23\",\"chennai\",]\n",
    "new = [f for f in list if f.isalpha()]\n",
    "print(new)\n",
    "\"\".join(new)"
   ]
  },
  {
   "cell_type": "code",
   "execution_count": null,
   "id": "1f8e9e78",
   "metadata": {},
   "outputs": [
    {
     "name": "stdout",
     "output_type": "stream",
     "text": [
      "Headline is not fake\n"
     ]
    }
   ],
   "source": [
    "fake_words = ['shocking', 'unbelievable', 'click here', 'you won’t believe', 'miracle', 'secret', 'guaranteed']\n",
    "\n",
    "headline = input(\"Enter headline from a newspaper:\").lower().strip().replace(\" \",\"\")\n",
    "spam = 0\n",
    "for fakes in fake_words:\n",
    "    if fakes in headline:\n",
    "        spam = 1\n",
    "        break\n",
    "if spam == 1:\n",
    "    print(\"Headline may be a fake\")\n",
    "else:\n",
    "    print(\"Headline is not fake\")\n"
   ]
  }
 ],
 "metadata": {
  "kernelspec": {
   "display_name": "my_ai_env",
   "language": "python",
   "name": "python3"
  },
  "language_info": {
   "codemirror_mode": {
    "name": "ipython",
    "version": 3
   },
   "file_extension": ".py",
   "mimetype": "text/x-python",
   "name": "python",
   "nbconvert_exporter": "python",
   "pygments_lexer": "ipython3",
   "version": "3.13.1"
  }
 },
 "nbformat": 4,
 "nbformat_minor": 5
}
