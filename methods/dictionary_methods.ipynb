{
 "cells": [
  {
   "cell_type": "code",
   "execution_count": 15,
   "id": "18d89a78",
   "metadata": {},
   "outputs": [
    {
     "data": {
      "text/plain": [
       "{'name': 'praveen kumar',\n",
       " 'age': 23,\n",
       " 'location': 'chennai',\n",
       " 'phone': {'ph1': '7981930348', 'ph2': '7204660348'}}"
      ]
     },
     "execution_count": 15,
     "metadata": {},
     "output_type": "execute_result"
    }
   ],
   "source": [
    "my_dic = {\"name\":'praveen kumar','age': 23, 'location': 'chennai', 'phone' : {'ph1':'7981930348','ph2':'7204660348'}}\n",
    "\n",
    "my_dic"
   ]
  },
  {
   "cell_type": "code",
   "execution_count": 16,
   "id": "aa4dc360",
   "metadata": {},
   "outputs": [
    {
     "data": {
      "text/plain": [
       "{'ph1': '7981930348', 'ph2': '7204660348'}"
      ]
     },
     "execution_count": 16,
     "metadata": {},
     "output_type": "execute_result"
    }
   ],
   "source": [
    "# 1. get(key)  ==> used to find the value of given key\n",
    "\n",
    "my_dic.get('phone')"
   ]
  },
  {
   "cell_type": "code",
   "execution_count": 17,
   "id": "660585cc",
   "metadata": {},
   "outputs": [
    {
     "data": {
      "text/plain": [
       "dict_keys(['name', 'age', 'location', 'phone'])"
      ]
     },
     "execution_count": 17,
     "metadata": {},
     "output_type": "execute_result"
    }
   ],
   "source": [
    "# 2.  keys()   ==> return the view of keys \n",
    "\n",
    "my_dic.keys()"
   ]
  },
  {
   "cell_type": "code",
   "execution_count": 18,
   "id": "461034df",
   "metadata": {},
   "outputs": [
    {
     "data": {
      "text/plain": [
       "dict_values(['praveen kumar', 23, 'chennai', {'ph1': '7981930348', 'ph2': '7204660348'}])"
      ]
     },
     "execution_count": 18,
     "metadata": {},
     "output_type": "execute_result"
    }
   ],
   "source": [
    "# 3. values()   ==> return the view of values \n",
    "\n",
    "my_dic.values()"
   ]
  },
  {
   "cell_type": "code",
   "execution_count": 19,
   "id": "7bc70aad",
   "metadata": {},
   "outputs": [
    {
     "name": "stdout",
     "output_type": "stream",
     "text": [
      "dict_items([('name', 'praveen kumar'), ('age', 23), ('location', 'chennai'), ('phone', {'ph1': '7981930348', 'ph2': '7204660348'})])\n",
      "<class 'dict'>\n",
      "<class 'dict_items'>\n"
     ]
    }
   ],
   "source": [
    "# 4. items()  ==> used to see the view of key,value pair in tuple\n",
    "\n",
    "pairs = my_dic.items()\n",
    "print(pairs)\n",
    "print(type(my_dic))\n",
    "print(type(pairs))"
   ]
  },
  {
   "cell_type": "code",
   "execution_count": 28,
   "id": "98208762",
   "metadata": {},
   "outputs": [
    {
     "data": {
      "text/plain": [
       "{'name': 'Praveen Kumar',\n",
       " 'location': 'chennai',\n",
       " 'phone': {'ph1': '7981930348', 'ph2': '8951494779'},\n",
       " 'gender': 'male'}"
      ]
     },
     "execution_count": 28,
     "metadata": {},
     "output_type": "execute_result"
    }
   ],
   "source": [
    "# 5. update(dict2)   ==>  used to add the another dictionary and also can update existing using keys\n",
    "\n",
    "my_dic.update({'gender':'male'})\n",
    "my_dic.update({'phone':{'ph1':'7981930348','ph2': '8951494779'}})\n",
    "my_dic\n",
    "\n"
   ]
  },
  {
   "cell_type": "code",
   "execution_count": 22,
   "id": "86db0df6",
   "metadata": {},
   "outputs": [
    {
     "data": {
      "text/plain": [
       "{'name': 'Praveen Kumar',\n",
       " 'location': 'chennai',\n",
       " 'phone': {'ph1': '7981930348', 'ph2': '7204660348'},\n",
       " 'gender': 'male'}"
      ]
     },
     "execution_count": 22,
     "metadata": {},
     "output_type": "execute_result"
    }
   ],
   "source": [
    "# 6. pop(key)   ==> used to remove or pop from the dictionaary\n",
    "\n",
    "my_dic.pop('age')\n",
    "my_dic"
   ]
  },
  {
   "cell_type": "code",
   "execution_count": 23,
   "id": "a1241c48",
   "metadata": {},
   "outputs": [
    {
     "data": {
      "text/plain": [
       "{'name': 'Praveen Kumar',\n",
       " 'location': 'chennai',\n",
       " 'phone': {'ph1': '7981930348', 'ph2': '7204660348'}}"
      ]
     },
     "execution_count": 23,
     "metadata": {},
     "output_type": "execute_result"
    }
   ],
   "source": [
    "# 7. popitem() ==> removes last inserted key value and return the key value pair\n",
    "\n",
    "my_dic.popitem()\n",
    "my_dic"
   ]
  },
  {
   "cell_type": "code",
   "execution_count": 26,
   "id": "16e038de",
   "metadata": {},
   "outputs": [
    {
     "data": {
      "text/plain": [
       "{'name': 'Praveen Kumar',\n",
       " 'location': 'chennai',\n",
       " 'phone': {'ph1': '7981930348', 'ph2': '7204660348'},\n",
       " 'gender': 'male'}"
      ]
     },
     "execution_count": 26,
     "metadata": {},
     "output_type": "execute_result"
    }
   ],
   "source": [
    "# 8. setdefault(key,value)  ==> Returns value of key; sets it if not found\n",
    "\n",
    "# If key exists:\n",
    "#     Return the current value (don’t change anything)\n",
    "# Else:\n",
    "#     Set the key to default_value and return that\n",
    "\n",
    "my_dic.setdefault('gender','male')\n",
    "my_dic\n"
   ]
  },
  {
   "cell_type": "code",
   "execution_count": 30,
   "id": "e05088fd",
   "metadata": {},
   "outputs": [
    {
     "data": {
      "text/plain": [
       "{}"
      ]
     },
     "execution_count": 30,
     "metadata": {},
     "output_type": "execute_result"
    }
   ],
   "source": [
    "# 9.  clear()  ==> used to clear the all key vales from the dictionary (makes empty)\n",
    "\n",
    "dictionary = {'key1':1,'key2': 2, 'key3': 'key_3'}\n",
    "dictionary.clear()\n",
    "dictionary"
   ]
  },
  {
   "cell_type": "code",
   "execution_count": 31,
   "id": "8418e785",
   "metadata": {},
   "outputs": [
    {
     "data": {
      "text/plain": [
       "{'key1': 1, 'key2': 2, 'key3': 'key_3'}"
      ]
     },
     "execution_count": 31,
     "metadata": {},
     "output_type": "execute_result"
    }
   ],
   "source": [
    "# 10.  copy()  ==> its keeps a shallow copy of the dictionary\n",
    "# just a copy referance of the main object . if main object change it may effect the other object too.\n",
    "\n",
    "dictionary = {'key1':1,'key2': 2, 'key3': 'key_3'}\n",
    "dictionary2 = dictionary.copy()\n",
    "dictionary2"
   ]
  },
  {
   "cell_type": "code",
   "execution_count": null,
   "id": "1087811c",
   "metadata": {},
   "outputs": [
    {
     "data": {
      "text/plain": [
       "{'name': 'praveen', 'age': 'praveen', 'gender': 'praveen'}"
      ]
     },
     "execution_count": 39,
     "metadata": {},
     "output_type": "execute_result"
    }
   ],
   "source": [
    "# fromkeys(keys,v)      ==>\tCreates a new dict with keys and a default value\n",
    "\n",
    "l = [\"name\",\"age\",\"gender\"]\n",
    "\n",
    "new_dic = dict.fromkeys(l,\"none\")\n",
    "new_dic"
   ]
  }
 ],
 "metadata": {
  "kernelspec": {
   "display_name": "my_ai_env",
   "language": "python",
   "name": "python3"
  },
  "language_info": {
   "codemirror_mode": {
    "name": "ipython",
    "version": 3
   },
   "file_extension": ".py",
   "mimetype": "text/x-python",
   "name": "python",
   "nbconvert_exporter": "python",
   "pygments_lexer": "ipython3",
   "version": "3.13.1"
  }
 },
 "nbformat": 4,
 "nbformat_minor": 5
}
