{
 "cells": [
  {
   "cell_type": "code",
   "execution_count": 10,
   "id": "a614417f",
   "metadata": {},
   "outputs": [
    {
     "data": {
      "text/plain": [
       "[2, 3, 4, 5, 6, 10]"
      ]
     },
     "execution_count": 10,
     "metadata": {},
     "output_type": "execute_result"
    }
   ],
   "source": [
    "# List methods\n",
    "\n",
    "# 1. append(x)  => This methods is used to add a element into list \n",
    "\n",
    "l = [2,3,4,5,6]\n",
    "l.append(10)\n",
    "l"
   ]
  },
  {
   "cell_type": "code",
   "execution_count": 11,
   "id": "73c0b966",
   "metadata": {},
   "outputs": [
    {
     "data": {
      "text/plain": [
       "[2, 3, 4, 5, 6, 10, 11, 51]"
      ]
     },
     "execution_count": 11,
     "metadata": {},
     "output_type": "execute_result"
    }
   ],
   "source": [
    "# 2. extend(iterable) ==> can add multiple elements into list at a time\n",
    "\n",
    "l.extend([11,51])\n",
    "l"
   ]
  },
  {
   "cell_type": "code",
   "execution_count": null,
   "id": "f6fcb544",
   "metadata": {},
   "outputs": [
    {
     "data": {
      "text/plain": [
       "[2, 3, 4, 9, 5, 6, 10, 11, 51]"
      ]
     },
     "execution_count": 12,
     "metadata": {},
     "output_type": "execute_result"
    }
   ],
   "source": [
    "# 3. insert(i,x)   ==> used to insert the new elemnets into list at perticular index\n",
    "\n",
    "l.insert(3,9)\n",
    "l"
   ]
  },
  {
   "cell_type": "code",
   "execution_count": null,
   "id": "c4867bcf",
   "metadata": {},
   "outputs": [
    {
     "data": {
      "text/plain": [
       "[2, 3, 4, 5, 6, 10, 11, 51]"
      ]
     },
     "execution_count": 13,
     "metadata": {},
     "output_type": "execute_result"
    }
   ],
   "source": [
    "# 5. remove(x)  ==> used to remove the element from the list which occured first\n",
    "\n",
    "l.remove(9)\n",
    "l\n"
   ]
  },
  {
   "cell_type": "code",
   "execution_count": 15,
   "id": "e974ff25",
   "metadata": {},
   "outputs": [
    {
     "data": {
      "text/plain": [
       "[2, 3, 4, 5, 6, 10, 11]"
      ]
     },
     "execution_count": 15,
     "metadata": {},
     "output_type": "execute_result"
    }
   ],
   "source": [
    "# 6. pop(i)   ==> this method used for removing element agt particular index\n",
    "\n",
    "l.pop(7)\n",
    "l"
   ]
  },
  {
   "cell_type": "code",
   "execution_count": 20,
   "id": "20ddaea5",
   "metadata": {},
   "outputs": [
    {
     "data": {
      "text/plain": [
       "[]"
      ]
     },
     "execution_count": 20,
     "metadata": {},
     "output_type": "execute_result"
    }
   ],
   "source": [
    "# 7. clear()   ==> used to clear or remove all the elements from the list\n",
    "\n",
    "l.clear()\n",
    "l\n"
   ]
  },
  {
   "cell_type": "code",
   "execution_count": 21,
   "id": "94dc9dc3",
   "metadata": {},
   "outputs": [
    {
     "data": {
      "text/plain": [
       "[1, 2, 3, 4, 5, 6, 7, 8, 9, 10]"
      ]
     },
     "execution_count": 21,
     "metadata": {},
     "output_type": "execute_result"
    }
   ],
   "source": [
    "l.extend([1,2,3,4,5,6,7,8,9,10])\n",
    "l"
   ]
  },
  {
   "cell_type": "code",
   "execution_count": 22,
   "id": "a451b1a4",
   "metadata": {},
   "outputs": [
    {
     "data": {
      "text/plain": [
       "4"
      ]
     },
     "execution_count": 22,
     "metadata": {},
     "output_type": "execute_result"
    }
   ],
   "source": [
    "# 8. index(x)   ==> used to find the index for first occured index\n",
    "\n",
    "l.index(5)\n"
   ]
  },
  {
   "cell_type": "code",
   "execution_count": 25,
   "id": "4c5283ac",
   "metadata": {},
   "outputs": [
    {
     "data": {
      "text/plain": [
       "1"
      ]
     },
     "execution_count": 25,
     "metadata": {},
     "output_type": "execute_result"
    }
   ],
   "source": [
    "# 9. count(x)  ==> used to find the count of given numbers in list\n",
    "\n",
    "l.count(10)\n"
   ]
  },
  {
   "cell_type": "code",
   "execution_count": 27,
   "id": "283e856d",
   "metadata": {},
   "outputs": [],
   "source": [
    "l.clear()\n",
    "l.extend([2,1,6,4,7,0,10,10,12,16])"
   ]
  },
  {
   "cell_type": "code",
   "execution_count": null,
   "id": "26e8943d",
   "metadata": {},
   "outputs": [
    {
     "data": {
      "text/plain": [
       "['apple', 'banana', 'carrort', 'jam', 'lemon', 'union']"
      ]
     },
     "execution_count": 31,
     "metadata": {},
     "output_type": "execute_result"
    }
   ],
   "source": [
    "# 10.  sort()  ==> used to sort the elements in the list\n",
    "\n",
    "l.sort()\n",
    "print(l)\n",
    "\n",
    "l2 = [\"union\",\"apple\",\"jam\",\"banana\",\"lemon\",\"carrort\"]\n",
    "l2.sort()\n",
    "l2"
   ]
  },
  {
   "cell_type": "code",
   "execution_count": 33,
   "id": "65e48903",
   "metadata": {},
   "outputs": [
    {
     "name": "stdout",
     "output_type": "stream",
     "text": [
      "[0, 1, 2, 4, 6, 7, 10, 10, 12, 16]\n"
     ]
    },
    {
     "data": {
      "text/plain": [
       "['union', 'lemon', 'jam', 'carrort', 'banana', 'apple']"
      ]
     },
     "execution_count": 33,
     "metadata": {},
     "output_type": "execute_result"
    }
   ],
   "source": [
    "# 11.  reverse()  ==> used to reverse the list\n",
    "\n",
    "l.reverse()\n",
    "print(l)\n",
    "l2.reverse()\n",
    "l2\n"
   ]
  },
  {
   "cell_type": "code",
   "execution_count": null,
   "id": "bc9e8de8",
   "metadata": {},
   "outputs": [
    {
     "data": {
      "text/plain": [
       "['union', 'lemon', 'jam', 'carrort', 'banana', 'apple']"
      ]
     },
     "execution_count": 36,
     "metadata": {},
     "output_type": "execute_result"
    }
   ],
   "source": [
    "# 12.  copy    ==> used to show the shollow copy for the list\n",
    "l2.copy()"
   ]
  },
  {
   "cell_type": "code",
   "execution_count": null,
   "id": "21318af7",
   "metadata": {},
   "outputs": [],
   "source": []
  }
 ],
 "metadata": {
  "kernelspec": {
   "display_name": "my_ai_env",
   "language": "python",
   "name": "python3"
  },
  "language_info": {
   "codemirror_mode": {
    "name": "ipython",
    "version": 3
   },
   "file_extension": ".py",
   "mimetype": "text/x-python",
   "name": "python",
   "nbconvert_exporter": "python",
   "pygments_lexer": "ipython3",
   "version": "3.13.1"
  }
 },
 "nbformat": 4,
 "nbformat_minor": 5
}
