{
 "cells": [
  {
   "cell_type": "code",
   "execution_count": 25,
   "id": "b3206384",
   "metadata": {},
   "outputs": [
    {
     "data": {
      "text/plain": [
       "{1, 2, 3, 4, 5}"
      ]
     },
     "execution_count": 25,
     "metadata": {},
     "output_type": "execute_result"
    }
   ],
   "source": [
    "# 1. add(x)  ==>  used to add the element to set\n",
    "\n",
    "my_set = {1,2,3,4}\n",
    "my_set.add(5)\n",
    "my_set"
   ]
  },
  {
   "cell_type": "code",
   "execution_count": 20,
   "id": "dee4dd9d",
   "metadata": {},
   "outputs": [
    {
     "data": {
      "text/plain": [
       "{1, 3, 4, 5}"
      ]
     },
     "execution_count": 20,
     "metadata": {},
     "output_type": "execute_result"
    }
   ],
   "source": [
    "# 2. remove(x)   ==> removes the element from set\n",
    "# ERROR if element not found in the sets\n",
    "my_set.remove(2)\n",
    "my_set"
   ]
  },
  {
   "cell_type": "code",
   "execution_count": 14,
   "id": "cadd2692",
   "metadata": {},
   "outputs": [
    {
     "data": {
      "text/plain": [
       "{1, 3, 4, 5}"
      ]
     },
     "execution_count": 14,
     "metadata": {},
     "output_type": "execute_result"
    }
   ],
   "source": [
    "# 3. discard(x)  ==>  removes element from the set\n",
    "# NOT occurs any ERROR if not found\n",
    "\n",
    "my_set.discard(6)\n",
    "my_set"
   ]
  },
  {
   "cell_type": "code",
   "execution_count": 27,
   "id": "cd4e1188",
   "metadata": {},
   "outputs": [
    {
     "data": {
      "text/plain": [
       "{2, 3, 4, 5}"
      ]
     },
     "execution_count": 27,
     "metadata": {},
     "output_type": "execute_result"
    }
   ],
   "source": [
    "# 4. pop()  ==> removes the random element from the set\n",
    "\n",
    "my_set.pop()\n",
    "my_set"
   ]
  },
  {
   "cell_type": "code",
   "execution_count": 28,
   "id": "35411a1d",
   "metadata": {},
   "outputs": [
    {
     "data": {
      "text/plain": [
       "set()"
      ]
     },
     "execution_count": 28,
     "metadata": {},
     "output_type": "execute_result"
    }
   ],
   "source": [
    "# 5.  clear()    ==> clears all elements from set\n",
    "my_set.clear()\n",
    "my_set"
   ]
  },
  {
   "cell_type": "code",
   "execution_count": null,
   "id": "bc549328",
   "metadata": {},
   "outputs": [
    {
     "data": {
      "text/plain": [
       "{0, 1, 3, 4, 6, 8, 15, 17, 18}"
      ]
     },
     "execution_count": 30,
     "metadata": {},
     "output_type": "execute_result"
    }
   ],
   "source": [
    "# 6. update({})   => updates the from new sets\n",
    "\n",
    "my_set.update({1,3,4,6,8,0,15,18,17})\n",
    "my_set"
   ]
  },
  {
   "cell_type": "code",
   "execution_count": 44,
   "id": "7f566079",
   "metadata": {},
   "outputs": [
    {
     "name": "stdout",
     "output_type": "stream",
     "text": [
      "{0, 1, 3, 4, 6, 8, 15, 17, 18}\n",
      "{0, 1, 3, 4, 6, 8, 15, 17, 18}\n"
     ]
    }
   ],
   "source": [
    "# 7. copy()      ==> shallow copy \n",
    "new_set = my_set.copy()\n",
    "print(my_set)\n",
    "print(new_set)"
   ]
  },
  {
   "cell_type": "code",
   "execution_count": 45,
   "id": "9846ea61",
   "metadata": {},
   "outputs": [
    {
     "name": "stdout",
     "output_type": "stream",
     "text": [
      "{1, 3, 6, 15, 18}\n",
      "{0, 1, 3, 4, 6, 8, 15, 17, 18}\n"
     ]
    }
   ],
   "source": [
    "new_set.pop()\n",
    "new_set.remove(8)\n",
    "new_set.discard(17)\n",
    "new_set.discard(4)\n",
    "print(new_set)\n",
    "print(my_set)"
   ]
  },
  {
   "cell_type": "code",
   "execution_count": null,
   "id": "c3012a34",
   "metadata": {},
   "outputs": [
    {
     "data": {
      "text/plain": [
       "{0, 1, 3, 4, 6, 8, 15, 17, 18}"
      ]
     },
     "execution_count": 46,
     "metadata": {},
     "output_type": "execute_result"
    }
   ],
   "source": [
    "# 8. union(other_set)  ==> union of the both sets (combines both sets)\n",
    "\n",
    "new_set.union(my_set)"
   ]
  },
  {
   "cell_type": "code",
   "execution_count": null,
   "id": "9c05de48",
   "metadata": {},
   "outputs": [
    {
     "data": {
      "text/plain": [
       "{1, 3, 6, 15, 18}"
      ]
     },
     "execution_count": 47,
     "metadata": {},
     "output_type": "execute_result"
    }
   ],
   "source": [
    "# 9. intersection(other_set)  ==>returns indersection values(common elements from both sets)\n",
    "\n",
    "new_set.intersection(my_set)"
   ]
  },
  {
   "cell_type": "code",
   "execution_count": null,
   "id": "dd43d297",
   "metadata": {},
   "outputs": [
    {
     "data": {
      "text/plain": [
       "{10, 11, 17}"
      ]
     },
     "execution_count": 51,
     "metadata": {},
     "output_type": "execute_result"
    }
   ],
   "source": [
    "s1 = {2,4,6,8,9}\n",
    "s2 = {2,6,8,10,11,17}\n",
    "\n",
    "# 10. difference(other_set)   ==> return difference values(returns non repeateing values of oneside of set from other side of set)\n",
    "#Items in this set but not the other\n",
    "\n",
    "s2.difference(s1)"
   ]
  },
  {
   "cell_type": "code",
   "execution_count": 53,
   "id": "38897891",
   "metadata": {},
   "outputs": [
    {
     "data": {
      "text/plain": [
       "{4, 9, 10, 11, 17}"
      ]
     },
     "execution_count": 53,
     "metadata": {},
     "output_type": "execute_result"
    }
   ],
   "source": [
    "# 11. symentric_differance(other_set)   ==> returns symentric differance\n",
    "# Items in either set but not both\n",
    "\n",
    "s1.symmetric_difference(s2)"
   ]
  },
  {
   "cell_type": "code",
   "execution_count": null,
   "id": "82b7d990",
   "metadata": {},
   "outputs": [],
   "source": [
    "# 12."
   ]
  }
 ],
 "metadata": {
  "kernelspec": {
   "display_name": "my_ai_env",
   "language": "python",
   "name": "python3"
  },
  "language_info": {
   "codemirror_mode": {
    "name": "ipython",
    "version": 3
   },
   "file_extension": ".py",
   "mimetype": "text/x-python",
   "name": "python",
   "nbconvert_exporter": "python",
   "pygments_lexer": "ipython3",
   "version": "3.13.1"
  }
 },
 "nbformat": 4,
 "nbformat_minor": 5
}
